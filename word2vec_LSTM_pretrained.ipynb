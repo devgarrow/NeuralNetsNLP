{
 "cells": [
  {
   "cell_type": "code",
   "execution_count": 1,
   "metadata": {
    "tags": []
   },
   "outputs": [],
   "source": [
    "# Import libraries\n",
    "import gensim.downloader as api\n",
    "import matplotlib.pyplot as plt\n",
    "import numpy as np\n",
    "from sklearn.datasets import fetch_20newsgroups\n",
    "from sklearn.metrics import accuracy_score\n",
    "from sklearn.model_selection import train_test_split\n",
    "from tensorflow.keras.layers import Dense, Embedding, LSTM, Dropout\n",
    "from tensorflow.keras.models import Sequential\n",
    "from tensorflow.keras.preprocessing.sequence import pad_sequences\n",
    "from tensorflow.keras.preprocessing.text import Tokenizer"
   ]
  },
  {
   "cell_type": "code",
   "execution_count": 2,
   "metadata": {
    "tags": []
   },
   "outputs": [],
   "source": [
    "# Import preprocessing method\n",
    "from preprocessing import preprocess"
   ]
  },
  {
   "cell_type": "code",
   "execution_count": 3,
   "metadata": {
    "tags": []
   },
   "outputs": [],
   "source": [
    "# Define constants\n",
    "BATCH_SIZE = 128\n",
    "ENCODED_VECTOR_SIZE = 300\n",
    "LSTM_SIZE = 100\n",
    "MAX_WORDS = 10000\n",
    "NUM_CLASSES = 20\n",
    "NUM_EPOCHS = 30\n",
    "OUTPUT_SIZE = 100\n",
    "TEST_SIZE = 0.2\n",
    "VALIDATION_SPLIT = 0.1"
   ]
  },
  {
   "cell_type": "code",
   "execution_count": 4,
   "metadata": {
    "tags": []
   },
   "outputs": [],
   "source": [
    "# Load datasets\n",
    "newsgroups = fetch_20newsgroups(subset='all', remove=('headers', 'footers'))\n",
    "texts = newsgroups.data\n",
    "labels = newsgroups.target"
   ]
  },
  {
   "cell_type": "code",
   "execution_count": 5,
   "metadata": {
    "tags": []
   },
   "outputs": [],
   "source": [
    "# Preprocess texts\n",
    "preprocessed_texts = [preprocess(text) for text in texts]\n",
    "\n",
    "# Instantiate tokenizer\n",
    "# tokenizer = Tokenizer(num_words=MAX_WORDS)\n",
    "tokenizer = Tokenizer()\n",
    "\n",
    "# Tokenize words from samples\n",
    "tokenizer.fit_on_texts(preprocessed_texts)\n",
    "num_words = len(tokenizer.word_index) + 1\n",
    "\n",
    "# Convert to vetorized sequences \n",
    "sequences = tokenizer.texts_to_sequences(preprocessed_texts)\n",
    "\n",
    "# Pad sequences to all be same size\n",
    "# padded_sequences = pad_sequences(sequences)\n",
    "padded_sequences = pad_sequences(sequences, maxlen=ENCODED_VECTOR_SIZE)\n",
    "\n",
    "# Split the data into training and test sets\n",
    "x_train, x_test, y_train, y_test = train_test_split(padded_sequences, labels, test_size=TEST_SIZE, shuffle=True)"
   ]
  },
  {
   "cell_type": "code",
   "execution_count": 6,
   "metadata": {
    "tags": []
   },
   "outputs": [],
   "source": [
    "# Load in embeddings\n",
    "embeddings = api.load(\"word2vec-google-news-300\")\n",
    "\n",
    "# Create embedding matrix\n",
    "embedding_matrix = np.zeros((num_words, ENCODED_VECTOR_SIZE))\n",
    "for word, index in tokenizer.word_index.items():\n",
    "    if word in embeddings:\n",
    "        embedding_matrix[index] = embeddings[word]"
   ]
  },
  {
   "cell_type": "code",
   "execution_count": 7,
   "metadata": {
    "tags": []
   },
   "outputs": [
    {
     "name": "stdout",
     "output_type": "stream",
     "text": [
      "Model: \"sequential\"\n",
      "_________________________________________________________________\n",
      " Layer (type)                Output Shape              Param #   \n",
      "=================================================================\n",
      " embedding (Embedding)       (None, 300, 300)          44484000  \n",
      "                                                                 \n",
      " dropout (Dropout)           (None, 300, 300)          0         \n",
      "                                                                 \n",
      " lstm (LSTM)                 (None, 100)               160400    \n",
      "                                                                 \n",
      " dropout_1 (Dropout)         (None, 100)               0         \n",
      "                                                                 \n",
      " dense (Dense)               (None, 100)               10100     \n",
      "                                                                 \n",
      " dense_1 (Dense)             (None, 50)                5050      \n",
      "                                                                 \n",
      " dense_2 (Dense)             (None, 20)                1020      \n",
      "                                                                 \n",
      "=================================================================\n",
      "Total params: 44,660,570\n",
      "Trainable params: 176,570\n",
      "Non-trainable params: 44,484,000\n",
      "_________________________________________________________________\n",
      "None\n"
     ]
    }
   ],
   "source": [
    "# Define CNN model\n",
    "model = Sequential([\n",
    "    Embedding(input_dim=num_words, output_dim=ENCODED_VECTOR_SIZE, weights=[embedding_matrix], input_length=ENCODED_VECTOR_SIZE, trainable=False),\n",
    "    Dropout(0.5),\n",
    "    LSTM(LSTM_SIZE),\n",
    "    Dropout(0.5),\n",
    "    Dense(LSTM_SIZE, activation='relu'),\n",
    "    Dense(LSTM_SIZE/2, activation='relu'),\n",
    "    Dense(20, activation='softmax')\n",
    "])\n",
    "\n",
    "# Compile model\n",
    "model.compile(optimizer='adam', loss='sparse_categorical_crossentropy', metrics=['accuracy'])\n",
    "print(model.summary())"
   ]
  },
  {
   "cell_type": "code",
   "execution_count": 8,
   "metadata": {
    "tags": []
   },
   "outputs": [
    {
     "name": "stdout",
     "output_type": "stream",
     "text": [
      "Epoch 1/30\n",
      "106/106 [==============================] - 134s 1s/step - loss: 2.7141 - accuracy: 0.1216 - val_loss: 2.3082 - val_accuracy: 0.1724\n",
      "Epoch 2/30\n",
      "106/106 [==============================] - 112s 1s/step - loss: 2.2165 - accuracy: 0.2087 - val_loss: 1.9787 - val_accuracy: 0.2785\n",
      "Epoch 3/30\n",
      "106/106 [==============================] - 110s 1s/step - loss: 2.0411 - accuracy: 0.2636 - val_loss: 1.8873 - val_accuracy: 0.3031\n",
      "Epoch 4/30\n",
      "106/106 [==============================] - 50s 474ms/step - loss: 1.9576 - accuracy: 0.3036 - val_loss: 1.7491 - val_accuracy: 0.3481\n",
      "Epoch 5/30\n",
      "106/106 [==============================] - 49s 466ms/step - loss: 1.8035 - accuracy: 0.3558 - val_loss: 1.5927 - val_accuracy: 0.3966\n",
      "Epoch 6/30\n",
      "106/106 [==============================] - 50s 472ms/step - loss: 1.7331 - accuracy: 0.3817 - val_loss: 1.6542 - val_accuracy: 0.3840\n",
      "Epoch 7/30\n",
      "106/106 [==============================] - 53s 501ms/step - loss: 1.8210 - accuracy: 0.3536 - val_loss: 1.6740 - val_accuracy: 0.3912\n",
      "Epoch 8/30\n",
      "106/106 [==============================] - 59s 559ms/step - loss: 1.6351 - accuracy: 0.4141 - val_loss: 1.5060 - val_accuracy: 0.4569\n",
      "Epoch 9/30\n",
      "106/106 [==============================] - 114s 1s/step - loss: 1.5577 - accuracy: 0.4452 - val_loss: 1.4562 - val_accuracy: 0.4509\n",
      "Epoch 10/30\n",
      "106/106 [==============================] - 115s 1s/step - loss: 1.5034 - accuracy: 0.4561 - val_loss: 1.4771 - val_accuracy: 0.4781\n",
      "Epoch 11/30\n",
      "106/106 [==============================] - 103s 973ms/step - loss: 1.4257 - accuracy: 0.4823 - val_loss: 1.7637 - val_accuracy: 0.4290\n",
      "Epoch 12/30\n",
      "106/106 [==============================] - 104s 979ms/step - loss: 1.5810 - accuracy: 0.4385 - val_loss: 1.4042 - val_accuracy: 0.4715\n",
      "Epoch 13/30\n",
      "106/106 [==============================] - 105s 986ms/step - loss: 1.4135 - accuracy: 0.4861 - val_loss: 1.2897 - val_accuracy: 0.5040\n",
      "Epoch 14/30\n",
      "106/106 [==============================] - 103s 974ms/step - loss: 1.3639 - accuracy: 0.5088 - val_loss: 1.3092 - val_accuracy: 0.5179\n",
      "Epoch 15/30\n",
      "106/106 [==============================] - 103s 970ms/step - loss: 1.3096 - accuracy: 0.5214 - val_loss: 1.2297 - val_accuracy: 0.5398\n",
      "Epoch 16/30\n",
      "106/106 [==============================] - 101s 957ms/step - loss: 1.7979 - accuracy: 0.4334 - val_loss: 1.6040 - val_accuracy: 0.4629\n",
      "Epoch 17/30\n",
      "106/106 [==============================] - 103s 974ms/step - loss: 1.5546 - accuracy: 0.4561 - val_loss: 1.3202 - val_accuracy: 0.5186\n",
      "Epoch 18/30\n",
      "106/106 [==============================] - 43s 400ms/step - loss: 1.3518 - accuracy: 0.5112 - val_loss: 1.2759 - val_accuracy: 0.5312\n",
      "Epoch 19/30\n",
      "106/106 [==============================] - 39s 372ms/step - loss: 1.3178 - accuracy: 0.5255 - val_loss: 1.2061 - val_accuracy: 0.5623\n",
      "Epoch 20/30\n",
      "106/106 [==============================] - 38s 362ms/step - loss: 1.2488 - accuracy: 0.5556 - val_loss: 1.2014 - val_accuracy: 0.5497\n",
      "Epoch 21/30\n",
      "106/106 [==============================] - 38s 361ms/step - loss: 1.2139 - accuracy: 0.5706 - val_loss: 1.1462 - val_accuracy: 0.5882\n",
      "Epoch 22/30\n",
      "106/106 [==============================] - 39s 366ms/step - loss: 1.1895 - accuracy: 0.5762 - val_loss: 1.1281 - val_accuracy: 0.5908\n",
      "Epoch 23/30\n",
      "106/106 [==============================] - 39s 368ms/step - loss: 1.2133 - accuracy: 0.5806 - val_loss: 1.1842 - val_accuracy: 0.5842\n",
      "Epoch 24/30\n",
      "106/106 [==============================] - 39s 365ms/step - loss: 1.1747 - accuracy: 0.5894 - val_loss: 1.1186 - val_accuracy: 0.5962\n",
      "Epoch 25/30\n",
      "106/106 [==============================] - 38s 362ms/step - loss: 1.1294 - accuracy: 0.6052 - val_loss: 1.0576 - val_accuracy: 0.6286\n",
      "Epoch 26/30\n",
      "106/106 [==============================] - 38s 358ms/step - loss: 1.1005 - accuracy: 0.6193 - val_loss: 1.0790 - val_accuracy: 0.6412\n",
      "Epoch 27/30\n",
      "106/106 [==============================] - 41s 387ms/step - loss: 1.0696 - accuracy: 0.6359 - val_loss: 1.0421 - val_accuracy: 0.6499\n",
      "Epoch 28/30\n",
      "106/106 [==============================] - 39s 365ms/step - loss: 1.0283 - accuracy: 0.6496 - val_loss: 1.0498 - val_accuracy: 0.6426\n",
      "Epoch 29/30\n",
      "106/106 [==============================] - 38s 362ms/step - loss: 1.0023 - accuracy: 0.6622 - val_loss: 1.0228 - val_accuracy: 0.6538\n",
      "Epoch 30/30\n",
      "106/106 [==============================] - 39s 366ms/step - loss: 1.0078 - accuracy: 0.6610 - val_loss: 0.9821 - val_accuracy: 0.6704\n"
     ]
    }
   ],
   "source": [
    "# Train the model\n",
    "model_history = model.fit(x_train, y_train, batch_size=BATCH_SIZE, epochs=NUM_EPOCHS, validation_split=VALIDATION_SPLIT)"
   ]
  },
  {
   "cell_type": "code",
   "execution_count": 9,
   "metadata": {
    "tags": []
   },
   "outputs": [
    {
     "data": {
      "image/png": "[encoded data removed]",
      "text/plain": [
       "<Figure size 640x480 with 1 Axes>"
      ]
     },
     "metadata": {},
     "output_type": "display_data"
    }
   ],
   "source": [
    "# Plot loss curves\n",
    "plt.plot(model_history.history['loss'], label='Training Loss')\n",
    "plt.plot(model_history.history['val_loss'], label='Validation Loss')\n",
    "plt.title('Training and Validation Loss')\n",
    "plt.xlabel('Epoch')\n",
    "plt.ylabel('Loss')\n",
    "plt.legend()\n",
    "plt.show()"
   ]
  },
  {
   "cell_type": "code",
   "execution_count": 10,
   "metadata": {
    "tags": []
   },
   "outputs": [
    {
     "name": "stdout",
     "output_type": "stream",
     "text": [
      "118/118 [==============================] - 6s 34ms/step\n",
      "Accuracy: 0.6824933687002652\n"
     ]
    }
   ],
   "source": [
    "# Get predictions and calculate accuracy\n",
    "predictions = np.argmax(model.predict(x_test), axis=1)\n",
    "accuracy = accuracy_score(y_test, predictions)\n",
    "print(f\"Accuracy: {accuracy}\")"
   ]
  },
  {
   "cell_type": "code",
   "execution_count": null,
   "metadata": {},
   "outputs": [],
   "source": []
  }
 ],
 "metadata": {
  "kernelspec": {
   "display_name": "Python 3 (ipykernel)",
   "language": "python",
   "name": "python3"
  },
  "language_info": {
   "codemirror_mode": {
    "name": "ipython",
    "version": 3
   },
   "file_extension": ".py",
   "mimetype": "text/x-python",
   "name": "python",
   "nbconvert_exporter": "python",
   "pygments_lexer": "ipython3",
   "version": "3.11.2"
  }
 },
 "nbformat": 4,
 "nbformat_minor": 4
}
