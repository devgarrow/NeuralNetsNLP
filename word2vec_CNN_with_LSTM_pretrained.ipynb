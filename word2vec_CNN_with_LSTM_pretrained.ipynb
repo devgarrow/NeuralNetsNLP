{
 "cells": [
  {
   "cell_type": "code",
   "execution_count": 1,
   "metadata": {},
   "outputs": [],
   "source": [
    "import gensim.downloader as api\n",
    "from sklearn.datasets import fetch_20newsgroups\n",
    "from sklearn.model_selection import train_test_split\n",
    "from sklearn.metrics import accuracy_score\n",
    "from tensorflow.keras.preprocessing.text import Tokenizer\n",
    "from tensorflow.keras.preprocessing.sequence import pad_sequences\n",
    "from tensorflow.keras.models import Sequential\n",
    "from tensorflow.keras.layers import Embedding, Conv1D, MaxPooling1D, Dense, GlobalMaxPooling1D, LSTM\n",
    "import numpy as np\n",
    "import matplotlib.pyplot as plt"
   ]
  },
  {
   "cell_type": "code",
   "execution_count": 2,
   "metadata": {},
   "outputs": [],
   "source": [
    "EMBEDDING_DIMENSIONALITY = 300\n",
    "\n",
    "# load in dataset\n",
    "dataset = fetch_20newsgroups(subset='all', remove=('headers', 'footers'))\n",
    "samples = dataset.data\n",
    "labels = dataset.target"
   ]
  },
  {
   "cell_type": "code",
   "execution_count": 3,
   "metadata": {},
   "outputs": [],
   "source": [
    "# tokenize words from samples\n",
    "tokenizer = Tokenizer()\n",
    "tokenizer.fit_on_texts(samples)\n",
    "num_words = len(tokenizer.word_index) + 1\n",
    "\n",
    "# convert to sequences and pad sequences to all be same size\n",
    "sequences = tokenizer.texts_to_sequences(samples)\n",
    "padded_sequences = pad_sequences(sequences, maxlen=EMBEDDING_DIMENSIONALITY)"
   ]
  },
  {
   "cell_type": "code",
   "execution_count": 4,
   "metadata": {},
   "outputs": [],
   "source": [
    "# partition data\n",
    "x_train, x_test, y_train, y_test = train_test_split(padded_sequences, labels, test_size=0.2, shuffle=True)"
   ]
  },
  {
   "cell_type": "code",
   "execution_count": 5,
   "metadata": {},
   "outputs": [],
   "source": [
    "# load in embeddings and create embedding matrix\n",
    "embeddings = api.load(\"word2vec-google-news-300\")\n",
    "\n",
    "embedding_matrix = np.zeros((num_words, EMBEDDING_DIMENSIONALITY))\n",
    "for word, index in tokenizer.word_index.items():\n",
    "    if word in embeddings:\n",
    "        embedding_matrix[index] = embeddings[word]"
   ]
  },
  {
   "cell_type": "code",
   "execution_count": 6,
   "metadata": {},
   "outputs": [
    {
     "name": "stdout",
     "output_type": "stream",
     "text": [
      "Model: \"sequential\"\n",
      "_________________________________________________________________\n",
      " Layer (type)                Output Shape              Param #   \n",
      "=================================================================\n",
      " embedding (Embedding)       (None, 300, 300)          47453100  \n",
      "                                                                 \n",
      " conv1d (Conv1D)             (None, 296, 128)          192128    \n",
      "                                                                 \n",
      " max_pooling1d (MaxPooling1D  (None, 98, 128)          0         \n",
      " )                                                               \n",
      "                                                                 \n",
      " conv1d_1 (Conv1D)           (None, 94, 128)           82048     \n",
      "                                                                 \n",
      " lstm (LSTM)                 (None, 100)               91600     \n",
      "                                                                 \n",
      " dense (Dense)               (None, 20)                2020      \n",
      "                                                                 \n",
      "=================================================================\n",
      "Total params: 47,820,896\n",
      "Trainable params: 367,796\n",
      "Non-trainable params: 47,453,100\n",
      "_________________________________________________________________\n",
      "None\n"
     ]
    }
   ],
   "source": [
    "# create CNN model and compile\n",
    "model = Sequential([\n",
    "    Embedding(input_dim=num_words, output_dim=EMBEDDING_DIMENSIONALITY, weights=[embedding_matrix], input_length=EMBEDDING_DIMENSIONALITY, trainable=False),\n",
    "    Conv1D(128, 5, activation=\"relu\"),\n",
    "    MaxPooling1D(3),\n",
    "    Conv1D(128, 5, activation=\"relu\"),\n",
    "    LSTM(100),\n",
    "    Dense(20, activation='softmax')\n",
    "])\n",
    "\n",
    "model.compile(optimizer='adam', loss='sparse_categorical_crossentropy', metrics=['accuracy'])\n",
    "print(model.summary())"
   ]
  },
  {
   "cell_type": "code",
   "execution_count": 7,
   "metadata": {},
   "outputs": [
    {
     "name": "stdout",
     "output_type": "stream",
     "text": [
      "Epoch 1/20\n",
      "106/106 [==============================] - 23s 195ms/step - loss: 2.2482 - accuracy: 0.2459 - val_loss: 1.8106 - val_accuracy: 0.3760\n",
      "Epoch 2/20\n",
      "106/106 [==============================] - 22s 204ms/step - loss: 1.6028 - accuracy: 0.4382 - val_loss: 1.4883 - val_accuracy: 0.4821\n",
      "Epoch 3/20\n",
      "106/106 [==============================] - 22s 210ms/step - loss: 1.3344 - accuracy: 0.5271 - val_loss: 1.3348 - val_accuracy: 0.5332\n",
      "Epoch 4/20\n",
      "106/106 [==============================] - 24s 229ms/step - loss: 1.1615 - accuracy: 0.5996 - val_loss: 1.2584 - val_accuracy: 0.5623\n",
      "Epoch 5/20\n",
      "106/106 [==============================] - 26s 249ms/step - loss: 1.0247 - accuracy: 0.6466 - val_loss: 1.1788 - val_accuracy: 0.5995\n",
      "Epoch 6/20\n",
      "106/106 [==============================] - 24s 226ms/step - loss: 0.9569 - accuracy: 0.6739 - val_loss: 1.1003 - val_accuracy: 0.6240\n",
      "Epoch 7/20\n",
      "106/106 [==============================] - 23s 214ms/step - loss: 0.8191 - accuracy: 0.7230 - val_loss: 1.0483 - val_accuracy: 0.6499\n",
      "Epoch 8/20\n",
      "106/106 [==============================] - 23s 216ms/step - loss: 0.7498 - accuracy: 0.7499 - val_loss: 1.0158 - val_accuracy: 0.6711\n",
      "Epoch 9/20\n",
      "106/106 [==============================] - 23s 218ms/step - loss: 0.6676 - accuracy: 0.7835 - val_loss: 1.0012 - val_accuracy: 0.6870\n",
      "Epoch 10/20\n",
      "106/106 [==============================] - 23s 216ms/step - loss: 0.5726 - accuracy: 0.8163 - val_loss: 0.9720 - val_accuracy: 0.7023\n",
      "Epoch 11/20\n",
      "106/106 [==============================] - 24s 225ms/step - loss: 0.5481 - accuracy: 0.8218 - val_loss: 1.0359 - val_accuracy: 0.6790\n",
      "Epoch 12/20\n",
      "106/106 [==============================] - 25s 237ms/step - loss: 0.4684 - accuracy: 0.8489 - val_loss: 0.9402 - val_accuracy: 0.7149\n",
      "Epoch 13/20\n",
      "106/106 [==============================] - 26s 249ms/step - loss: 0.3809 - accuracy: 0.8821 - val_loss: 0.9762 - val_accuracy: 0.6996\n",
      "Epoch 14/20\n",
      "106/106 [==============================] - 24s 224ms/step - loss: 0.3448 - accuracy: 0.8936 - val_loss: 0.9752 - val_accuracy: 0.7321\n",
      "Epoch 15/20\n",
      "106/106 [==============================] - 23s 220ms/step - loss: 0.3034 - accuracy: 0.9089 - val_loss: 1.0738 - val_accuracy: 0.7076\n",
      "Epoch 16/20\n",
      "106/106 [==============================] - 29s 278ms/step - loss: 0.2554 - accuracy: 0.9254 - val_loss: 0.9836 - val_accuracy: 0.7294\n",
      "Epoch 17/20\n",
      "106/106 [==============================] - 30s 279ms/step - loss: 0.1942 - accuracy: 0.9469 - val_loss: 1.0339 - val_accuracy: 0.7314\n",
      "Epoch 18/20\n",
      "106/106 [==============================] - 30s 282ms/step - loss: 0.1586 - accuracy: 0.9571 - val_loss: 1.0342 - val_accuracy: 0.7401\n",
      "Epoch 19/20\n",
      "106/106 [==============================] - 30s 283ms/step - loss: 0.1649 - accuracy: 0.9547 - val_loss: 0.9981 - val_accuracy: 0.7507\n",
      "Epoch 20/20\n",
      "106/106 [==============================] - 30s 287ms/step - loss: 0.1898 - accuracy: 0.9444 - val_loss: 1.0877 - val_accuracy: 0.7241\n"
     ]
    }
   ],
   "source": [
    "# train model\n",
    "model_history = model.fit(x_train, y_train, batch_size=128, epochs=20, validation_split=0.1)"
   ]
  },
  {
   "cell_type": "code",
   "execution_count": 8,
   "metadata": {},
   "outputs": [
    {
     "data": {
      "image/png": "[encoded data removed]",
      "text/plain": [
       "<Figure size 640x480 with 1 Axes>"
      ]
     },
     "metadata": {},
     "output_type": "display_data"
    }
   ],
   "source": [
    "# plot loss curves\n",
    "plt.plot(model_history.history['loss'], label='Training Loss')\n",
    "plt.plot(model_history.history['val_loss'], label='Validation Loss')\n",
    "plt.title('Training and Validation Loss')\n",
    "plt.xlabel('Epoch')\n",
    "plt.ylabel('Loss')\n",
    "plt.legend()\n",
    "plt.show()"
   ]
  },
  {
   "cell_type": "code",
   "execution_count": 9,
   "metadata": {},
   "outputs": [
    {
     "name": "stdout",
     "output_type": "stream",
     "text": [
      "118/118 [==============================] - 4s 30ms/step\n",
      "Accuracy: 0.7448275862068966\n"
     ]
    }
   ],
   "source": [
    "# get predictions and calculate accuracy\n",
    "predictions = np.argmax(model.predict(x_test), axis=1)\n",
    "accuracy = accuracy_score(y_test, predictions)\n",
    "print(f\"Accuracy: {accuracy}\")"
   ]
  }
 ],
 "metadata": {
  "kernelspec": {
   "display_name": "Python 3",
   "language": "python",
   "name": "python3"
  },
  "language_info": {
   "codemirror_mode": {
    "name": "ipython",
    "version": 3
   },
   "file_extension": ".py",
   "mimetype": "text/x-python",
   "name": "python",
   "nbconvert_exporter": "python",
   "pygments_lexer": "ipython3",
   "version": "3.11.2"
  }
 },
 "nbformat": 4,
 "nbformat_minor": 2
}
