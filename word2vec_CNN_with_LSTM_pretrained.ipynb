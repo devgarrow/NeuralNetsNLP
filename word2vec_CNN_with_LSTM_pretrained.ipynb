{
 "cells": [
  {
   "cell_type": "code",
   "execution_count": 8,
   "metadata": {
    "tags": []
   },
   "outputs": [],
   "source": [
    "# Import libraries\n",
    "import gensim.downloader as api\n",
    "import numpy as np\n",
    "import matplotlib.pyplot as plt\n",
    "import tensorflow as tf\n",
    "from sklearn.datasets import fetch_20newsgroups\n",
    "from sklearn.metrics import accuracy_score, confusion_matrix\n",
    "from sklearn.model_selection import train_test_split\n",
    "from sklearn.preprocessing import LabelEncoder\n",
    "from tensorflow.keras.layers import Conv1D, Dense, Embedding, LSTM, GlobalMaxPooling1D, MaxPooling1D, Dropout\n",
    "from tensorflow.keras.models import Sequential\n",
    "from tensorflow.keras.preprocessing.sequence import pad_sequences\n",
    "from tensorflow.keras.preprocessing.text import Tokenizer\n",
    "from tensorflow.keras.optimizers import Adam\n",
    "from tensorflow.keras.optimizers.schedules import ExponentialDecay"
   ]
  },
  {
   "cell_type": "code",
   "execution_count": 9,
   "metadata": {
    "tags": []
   },
   "outputs": [],
   "source": [
    "# Import preprocessing method\n",
    "from preprocessing import preprocess"
   ]
  },
  {
   "cell_type": "code",
   "execution_count": 10,
   "metadata": {
    "tags": []
   },
   "outputs": [],
   "source": [
    "# Define constants\n",
    "BATCH_SIZE = 128\n",
    "ENCODED_VECTOR_SIZE = 300\n",
    "LSTM_SIZE = 100\n",
    "MAX_WORDS = 10000\n",
    "NUM_CLASSES = 20\n",
    "NUM_EPOCHS = 30\n",
    "OUTPUT_SIZE = 100\n",
    "TEST_SIZE = 0.2\n",
    "VALIDATION_SPLIT = 0.1"
   ]
  },
  {
   "cell_type": "code",
   "execution_count": 11,
   "metadata": {
    "tags": []
   },
   "outputs": [],
   "source": [
    "# Load datasets\n",
    "newsgroups = fetch_20newsgroups(subset='all', remove=('headers', 'footers'))\n",
    "texts = newsgroups.data\n",
    "labels = newsgroups.target"
   ]
  },
  {
   "cell_type": "code",
   "execution_count": 12,
   "metadata": {
    "tags": []
   },
   "outputs": [],
   "source": [
    "# Preprocess texts\n",
    "preprocessed_texts = [preprocess(text) for text in texts]\n",
    "\n",
    "# Instantiate tokenizer\n",
    "# tokenizer = Tokenizer(num_words=MAX_WORDS)\n",
    "tokenizer = Tokenizer()\n",
    "\n",
    "# Tokenize words from samples\n",
    "tokenizer.fit_on_texts(preprocessed_texts)\n",
    "num_words = len(tokenizer.word_index) + 1\n",
    "\n",
    "# Convert to vetorized sequences \n",
    "sequences = tokenizer.texts_to_sequences(preprocessed_texts)\n",
    "\n",
    "# Pad sequences to all be same size\n",
    "# padded_sequences = pad_sequences(sequences)\n",
    "padded_sequences = pad_sequences(sequences, maxlen=ENCODED_VECTOR_SIZE)\n",
    "\n",
    "# Split the data into training and test sets\n",
    "x_train, x_test, y_train, y_test = train_test_split(padded_sequences, labels, test_size=TEST_SIZE, shuffle=True)"
   ]
  },
  {
   "cell_type": "code",
   "execution_count": 13,
   "metadata": {
    "tags": []
   },
   "outputs": [],
   "source": [
    "# Load in embeddings\n",
    "embeddings = api.load(\"word2vec-google-news-300\")\n",
    "\n",
    "# Create embedding matrix\n",
    "embedding_matrix = np.zeros((num_words, ENCODED_VECTOR_SIZE))\n",
    "for word, index in tokenizer.word_index.items():\n",
    "    if word in embeddings:\n",
    "        embedding_matrix[index] = embeddings[word]"
   ]
  },
  {
   "cell_type": "code",
   "execution_count": 14,
   "metadata": {
    "tags": []
   },
   "outputs": [
    {
     "name": "stdout",
     "output_type": "stream",
     "text": [
      "Model: \"sequential\"\n",
      "_________________________________________________________________\n",
      " Layer (type)                Output Shape              Param #   \n",
      "=================================================================\n",
      " embedding (Embedding)       (None, 300, 300)          44484000  \n",
      "                                                                 \n",
      " dropout (Dropout)           (None, 300, 300)          0         \n",
      "                                                                 \n",
      " conv1d (Conv1D)             (None, 298, 300)          270300    \n",
      "                                                                 \n",
      " max_pooling1d (MaxPooling1D  (None, 99, 300)          0         \n",
      " )                                                               \n",
      "                                                                 \n",
      " conv1d_1 (Conv1D)           (None, 97, 300)           270300    \n",
      "                                                                 \n",
      " max_pooling1d_1 (MaxPooling  (None, 32, 300)          0         \n",
      " 1D)                                                             \n",
      "                                                                 \n",
      " conv1d_2 (Conv1D)           (None, 30, 128)           115328    \n",
      "                                                                 \n",
      " max_pooling1d_2 (MaxPooling  (None, 10, 128)          0         \n",
      " 1D)                                                             \n",
      "                                                                 \n",
      " conv1d_3 (Conv1D)           (None, 8, 128)            49280     \n",
      "                                                                 \n",
      " dropout_1 (Dropout)         (None, 8, 128)            0         \n",
      "                                                                 \n",
      " lstm (LSTM)                 (None, 100)               91600     \n",
      "                                                                 \n",
      " dense (Dense)               (None, 20)                2020      \n",
      "                                                                 \n",
      "=================================================================\n",
      "Total params: 45,282,828\n",
      "Trainable params: 798,828\n",
      "Non-trainable params: 44,484,000\n",
      "_________________________________________________________________\n",
      "None\n"
     ]
    }
   ],
   "source": [
    "# Define CNN model\n",
    "model = Sequential([\n",
    "    Embedding(input_dim=num_words, output_dim=ENCODED_VECTOR_SIZE, weights=[embedding_matrix], input_length=ENCODED_VECTOR_SIZE, trainable=False),\n",
    "    Dropout(0.5),\n",
    "    Conv1D(ENCODED_VECTOR_SIZE, 3, activation=\"relu\"),\n",
    "    MaxPooling1D(3),\n",
    "    Conv1D(ENCODED_VECTOR_SIZE, 3, activation=\"relu\"),\n",
    "    MaxPooling1D(3),\n",
    "    Conv1D(BATCH_SIZE, 3, activation=\"relu\"),\n",
    "    MaxPooling1D(3),\n",
    "    Conv1D(BATCH_SIZE, 3, activation=\"relu\"),\n",
    "    Dropout(0.5),\n",
    "    LSTM(LSTM_SIZE),\n",
    "    Dense(NUM_CLASSES, activation='softmax')\n",
    "])\n",
    "\n",
    "# Compile model\n",
    "initial_lr = 0.001\n",
    "lr_scheduler = ExponentialDecay(initial_learning_rate=initial_lr, decay_steps=10000, decay_rate=0.95)\n",
    "optimizer = Adam(learning_rate=lr_scheduler)\n",
    "model.compile(optimizer=optimizer, loss='sparse_categorical_crossentropy', metrics=['accuracy'])\n",
    "print(model.summary())"
   ]
  },
  {
   "cell_type": "code",
   "execution_count": 15,
   "metadata": {
    "tags": []
   },
   "outputs": [
    {
     "name": "stdout",
     "output_type": "stream",
     "text": [
      "Epoch 1/30\n",
      "106/106 [==============================] - 75s 580ms/step - loss: 2.5653 - accuracy: 0.1487 - val_loss: 2.0534 - val_accuracy: 0.2593\n",
      "Epoch 2/30\n",
      "106/106 [==============================] - 56s 526ms/step - loss: 1.8968 - accuracy: 0.3063 - val_loss: 1.6310 - val_accuracy: 0.4158\n",
      "Epoch 3/30\n",
      "106/106 [==============================] - 63s 593ms/step - loss: 1.5821 - accuracy: 0.4201 - val_loss: 1.3973 - val_accuracy: 0.4894\n",
      "Epoch 4/30\n",
      "106/106 [==============================] - 61s 575ms/step - loss: 1.3747 - accuracy: 0.4943 - val_loss: 1.2309 - val_accuracy: 0.5531\n",
      "Epoch 5/30\n",
      "106/106 [==============================] - 58s 549ms/step - loss: 1.2495 - accuracy: 0.5463 - val_loss: 1.1055 - val_accuracy: 0.6094\n",
      "Epoch 6/30\n",
      "106/106 [==============================] - 61s 576ms/step - loss: 1.1300 - accuracy: 0.6047 - val_loss: 1.0277 - val_accuracy: 0.6592\n",
      "Epoch 7/30\n",
      "106/106 [==============================] - 62s 585ms/step - loss: 1.0232 - accuracy: 0.6477 - val_loss: 0.9385 - val_accuracy: 0.6824\n",
      "Epoch 8/30\n",
      "106/106 [==============================] - 62s 586ms/step - loss: 0.9584 - accuracy: 0.6772 - val_loss: 0.9257 - val_accuracy: 0.7129\n",
      "Epoch 9/30\n",
      "106/106 [==============================] - 60s 566ms/step - loss: 0.8823 - accuracy: 0.7000 - val_loss: 0.8634 - val_accuracy: 0.7228\n",
      "Epoch 10/30\n",
      "106/106 [==============================] - 62s 585ms/step - loss: 0.8165 - accuracy: 0.7193 - val_loss: 0.8657 - val_accuracy: 0.7255\n",
      "Epoch 11/30\n",
      "106/106 [==============================] - 60s 567ms/step - loss: 0.7877 - accuracy: 0.7303 - val_loss: 0.8512 - val_accuracy: 0.7281\n",
      "Epoch 12/30\n",
      "106/106 [==============================] - 61s 576ms/step - loss: 0.7208 - accuracy: 0.7566 - val_loss: 0.8522 - val_accuracy: 0.7361\n",
      "Epoch 13/30\n",
      "106/106 [==============================] - 60s 570ms/step - loss: 0.6949 - accuracy: 0.7652 - val_loss: 0.7925 - val_accuracy: 0.7540\n",
      "Epoch 14/30\n",
      "106/106 [==============================] - 61s 579ms/step - loss: 0.6474 - accuracy: 0.7804 - val_loss: 0.7983 - val_accuracy: 0.7626\n",
      "Epoch 15/30\n",
      "106/106 [==============================] - 58s 550ms/step - loss: 0.6134 - accuracy: 0.7908 - val_loss: 0.7801 - val_accuracy: 0.7679\n",
      "Epoch 16/30\n",
      "106/106 [==============================] - 61s 576ms/step - loss: 0.5844 - accuracy: 0.8049 - val_loss: 0.7982 - val_accuracy: 0.7613\n",
      "Epoch 17/30\n",
      "106/106 [==============================] - 37s 347ms/step - loss: 0.5528 - accuracy: 0.8152 - val_loss: 0.8261 - val_accuracy: 0.7593\n",
      "Epoch 18/30\n",
      "106/106 [==============================] - 29s 270ms/step - loss: 0.5164 - accuracy: 0.8275 - val_loss: 0.7974 - val_accuracy: 0.7639\n",
      "Epoch 19/30\n",
      "106/106 [==============================] - 33s 314ms/step - loss: 0.5050 - accuracy: 0.8297 - val_loss: 0.7556 - val_accuracy: 0.7838\n",
      "Epoch 20/30\n",
      "106/106 [==============================] - 33s 307ms/step - loss: 0.4806 - accuracy: 0.8384 - val_loss: 0.7899 - val_accuracy: 0.7759\n",
      "Epoch 21/30\n",
      "106/106 [==============================] - 30s 287ms/step - loss: 0.4614 - accuracy: 0.8468 - val_loss: 0.7830 - val_accuracy: 0.7785\n",
      "Epoch 22/30\n",
      "106/106 [==============================] - 33s 310ms/step - loss: 0.4360 - accuracy: 0.8534 - val_loss: 0.8083 - val_accuracy: 0.7798\n",
      "Epoch 23/30\n",
      "106/106 [==============================] - 34s 320ms/step - loss: 0.4214 - accuracy: 0.8617 - val_loss: 0.8093 - val_accuracy: 0.7765\n",
      "Epoch 24/30\n",
      "106/106 [==============================] - 34s 321ms/step - loss: 0.4012 - accuracy: 0.8670 - val_loss: 0.8153 - val_accuracy: 0.7812\n",
      "Epoch 25/30\n",
      "106/106 [==============================] - 33s 308ms/step - loss: 0.3731 - accuracy: 0.8766 - val_loss: 0.8446 - val_accuracy: 0.7706\n",
      "Epoch 26/30\n",
      "106/106 [==============================] - 32s 305ms/step - loss: 0.3653 - accuracy: 0.8777 - val_loss: 0.7985 - val_accuracy: 0.7871\n",
      "Epoch 27/30\n",
      "106/106 [==============================] - 28s 267ms/step - loss: 0.3620 - accuracy: 0.8819 - val_loss: 0.8094 - val_accuracy: 0.7891\n",
      "Epoch 28/30\n",
      "106/106 [==============================] - 29s 278ms/step - loss: 0.3424 - accuracy: 0.8842 - val_loss: 0.7941 - val_accuracy: 0.7938\n",
      "Epoch 29/30\n",
      "106/106 [==============================] - 31s 295ms/step - loss: 0.3176 - accuracy: 0.8943 - val_loss: 0.8937 - val_accuracy: 0.7686\n",
      "Epoch 30/30\n",
      "106/106 [==============================] - 29s 274ms/step - loss: 0.3086 - accuracy: 0.8984 - val_loss: 0.8737 - val_accuracy: 0.7792\n"
     ]
    }
   ],
   "source": [
    "# Train the model\n",
    "model_history = model.fit(x_train, y_train, batch_size=BATCH_SIZE, epochs=NUM_EPOCHS, validation_split=VALIDATION_SPLIT)"
   ]
  },
  {
   "cell_type": "code",
   "execution_count": 16,
   "metadata": {
    "tags": []
   },
   "outputs": [
    {
     "data": {
      "image/png": "[encoded data removed]",
      "text/plain": [
       "<Figure size 640x480 with 1 Axes>"
      ]
     },
     "metadata": {},
     "output_type": "display_data"
    }
   ],
   "source": [
    "# Plot loss curves\n",
    "plt.plot(model_history.history['loss'], label='Training Loss')\n",
    "plt.plot(model_history.history['val_loss'], label='Validation Loss')\n",
    "plt.title('Training and Validation Loss')\n",
    "plt.xlabel('Epoch')\n",
    "plt.ylabel('Loss')\n",
    "plt.legend()\n",
    "plt.show()"
   ]
  },
  {
   "cell_type": "code",
   "execution_count": 17,
   "metadata": {
    "tags": []
   },
   "outputs": [
    {
     "name": "stdout",
     "output_type": "stream",
     "text": [
      "118/118 [==============================] - 6s 43ms/step\n",
      "Accuracy: 0.7854111405835543\n",
      "Confusion Matrix: [[111   1   0   0   1   0   2   2   2   0   0   1   0   1   2  19   2   1\n",
      "    0  19]\n",
      " [  1 151   9   4   3  11   8   0   1   0   0   1   9   0   3   1   0   0\n",
      "    0   0]\n",
      " [  0  17 131  17  10   7   6   0   2   0   0   1   2   0   0   0   0   1\n",
      "    0   0]\n",
      " [  0   3  27 110  42   8   6   0   0   1   0   0  10   1   0   2   0   0\n",
      "    0   0]\n",
      " [  0   7   6  12 139   2   3   0   0   0   0   1  13   0   1   1   0   0\n",
      "    0   0]\n",
      " [  0  24   7   4   3 164   3   0   1   0   0   1   1   0   1   0   0   1\n",
      "    0   0]\n",
      " [  0   2   1   4  11   2 134   4   2   4   2   0   8   0   3   2   1   0\n",
      "    0   1]\n",
      " [  0   1   0   0   2   0   4 182   6   0   0   2   6   0   0   0   3   0\n",
      "    0   1]\n",
      " [  1   2   0   0   1   0   4  11 166   0   2   1   2   0   3   0   0   2\n",
      "    1   0]\n",
      " [  0   3   0   2   0   0   4   0   1 177   9   0   0   0   1   0   0   2\n",
      "    0   1]\n",
      " [  0   0   0   1   1   2   0   1   0   7 206   0   1   0   1   0   1   2\n",
      "    0   0]\n",
      " [  1   2   1   3   2   4   1   0   0   1   0 150   5   0   3   0   1   1\n",
      "    1   0]\n",
      " [  0   5   2   1  10   1   3   5   2   0   1   2 160   2   2   0   1   0\n",
      "    0   0]\n",
      " [  1   1   0   0   0   0   4   2   0   1   1   0   2 181   3   3   0   0\n",
      "    1   0]\n",
      " [  0   3   1   0   1   1   0   0   0   1   1   2  11   1 176   1   1   1\n",
      "    2   2]\n",
      " [  2   0   0   0   1   2   0   0   0   1   0   0   0   0   0 167   0   0\n",
      "    0   8]\n",
      " [  1   0   0   0   0   0   2   0   0   0   0   3   2   0   2   0 169   1\n",
      "   10  10]\n",
      " [  8   1   1   0   0   1   3   0   0   0   2   0   1   1   0   3   5 164\n",
      "    0   6]\n",
      " [  6   0   0   0   0   0   4   1   2   1   0   3   0   3   4   4  13   3\n",
      "   90   8]\n",
      " [ 15   0   0   0   0   0   2   0   1   0   0   1   0   2   1  35   8   2\n",
      "    1  33]]\n"
     ]
    }
   ],
   "source": [
    "# Get predictions and calculate accuracy\n",
    "predictions = np.argmax(model.predict(x_test), axis=1)\n",
    "accuracy = accuracy_score(y_test, predictions)\n",
    "confusion_matrix = confusion_matrix(y_pred=predictions, y_true=y_test)\n",
    "print(f\"Accuracy: {accuracy}\")\n",
    "print(f\"Confusion Matrix: {confusion_matrix}\")"
   ]
  },
  {
   "cell_type": "code",
   "execution_count": null,
   "metadata": {},
   "outputs": [],
   "source": []
  }
 ],
 "metadata": {
  "kernelspec": {
   "display_name": "Python 3 (ipykernel)",
   "language": "python",
   "name": "python3"
  },
  "language_info": {
   "codemirror_mode": {
    "name": "ipython",
    "version": 3
   },
   "file_extension": ".py",
   "mimetype": "text/x-python",
   "name": "python",
   "nbconvert_exporter": "python",
   "pygments_lexer": "ipython3",
   "version": "3.11.2"
  }
 },
 "nbformat": 4,
 "nbformat_minor": 4
}
