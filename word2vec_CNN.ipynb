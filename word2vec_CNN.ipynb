{
 "cells": [
  {
   "cell_type": "code",
   "execution_count": 34,
   "metadata": {},
   "outputs": [],
   "source": [
    "import numpy as np\n",
    "from sklearn.datasets import fetch_20newsgroups\n",
    "from sklearn.model_selection import train_test_split\n",
    "from tensorflow.keras.preprocessing.text import Tokenizer\n",
    "from tensorflow.keras.preprocessing.sequence import pad_sequences\n",
    "from tensorflow.keras.models import Sequential\n",
    "from tensorflow.keras.layers import Embedding, GlobalAveragePooling1D, Dense\n",
    "from sklearn.preprocessing import LabelEncoder\n",
    "from sklearn.metrics import accuracy_score\n",
    "import tensorflow as tf"
   ]
  },
  {
   "cell_type": "code",
   "execution_count": 44,
   "metadata": {},
   "outputs": [
    {
     "name": "stdout",
     "output_type": "stream",
     "text": [
      "ASFD\n"
     ]
    }
   ],
   "source": [
    "print(\"ASFD\")\n"
   ]
  },
  {
   "cell_type": "code",
   "execution_count": 45,
   "metadata": {},
   "outputs": [],
   "source": [
    "newsgroups = fetch_20newsgroups(subset='all', remove=('headers', 'footers', 'quotes')) # load in dataset\n",
    "texts = newsgroups.data\n",
    "labels = newsgroups.target\n",
    "\n",
    "x_train, x_test, y_train, y_test = train_test_split(texts, labels, test_size=0.2, shuffle=True)"
   ]
  },
  {
   "cell_type": "code",
   "execution_count": 48,
   "metadata": {},
   "outputs": [],
   "source": [
    "max_words = 10000\n",
    "tokenizer = tf.keras.preprocessing.text.Tokenizer(num_words=max_words)\n",
    "tokenizer.fit_on_texts(x_train)\n",
    "\n",
    "sequences_train = tokenizer.texts_to_sequences(x_train)\n",
    "sequences_test = tokenizer.texts_to_sequences(x_test)"
   ]
  },
  {
   "cell_type": "code",
   "execution_count": 49,
   "metadata": {},
   "outputs": [],
   "source": [
    "padded_train = tf.keras.preprocessing.sequence.pad_sequences(sequences_train)\n",
    "padded_test = tf.keras.preprocessing.sequence.pad_sequences(sequences_test)\n",
    "\n",
    "label_encoder = LabelEncoder()\n",
    "encoded_train = label_encoder.fit_transform(y_train)\n",
    "encoded_test = label_encoder.fit_transform(y_test)"
   ]
  },
  {
   "cell_type": "code",
   "execution_count": null,
   "metadata": {},
   "outputs": [],
   "source": [
    "embedding_dimension = 100\n",
    "model = tf.keras.Sequential([\n",
    "    tf.keras.layers.Embedding(input_dim=max_words, output_dim=100),\n",
    "    tf.keras.layers.Conv1D(128, 5, activation=\"relu\"),\n",
    "    tf.keras.layers.MaxPooling1D(3),\n",
    "    tf.keras.layers.Conv1D(128, 5, activation=\"relu\"),\n",
    "    tf.keras.layers.GlobalMaxPooling1D(),\n",
    "    Dense(20, activation='softmax')\n",
    "])\n",
    "\n",
    "model.compile(optimizer='adam', loss='sparse_categorical_crossentropy', metrics=['accuracy'])"
   ]
  },
  {
   "cell_type": "code",
   "execution_count": null,
   "metadata": {},
   "outputs": [],
   "source": [
    "model.fit(padded_train, encoded_train, epochs=10)\n",
    "\n",
    "pred_probs = model.predict(padded_test)\n",
    "preds = np.argmax(pred_probs, axis=1)\n",
    "\n",
    "decoded_test = label_encoder.inverse_transform(encoded_test)\n",
    "decoded_preds = label_encoder.inverse_transform(preds)\n",
    "\n",
    "accuracy = accuracy_score(decoded_test, decoded_preds)\n",
    "print(f\"Accuracy: {accuracy}\")"
   ]
  }
 ],
 "metadata": {
  "kernelspec": {
   "display_name": "Python 3",
   "language": "python",
   "name": "python3"
  },
  "language_info": {
   "codemirror_mode": {
    "name": "ipython",
    "version": 3
   },
   "file_extension": ".py",
   "mimetype": "text/x-python",
   "name": "python",
   "nbconvert_exporter": "python",
   "pygments_lexer": "ipython3",
   "version": "3.11.2"
  }
 },
 "nbformat": 4,
 "nbformat_minor": 2
}
