{
 "cells": [
  {
   "cell_type": "code",
   "execution_count": 4,
   "metadata": {},
   "outputs": [],
   "source": [
    "import numpy as np\n",
    "from sklearn.datasets import fetch_20newsgroups\n",
    "from sklearn.model_selection import train_test_split\n",
    "from tensorflow.keras.preprocessing.text import Tokenizer\n",
    "from tensorflow.keras.preprocessing.sequence import pad_sequences\n",
    "from tensorflow.keras.models import Sequential\n",
    "from tensorflow.keras.layers import Embedding, GlobalAveragePooling1D, Dense\n",
    "from sklearn.preprocessing import LabelEncoder\n",
    "from sklearn.metrics import accuracy_score\n",
    "import tensorflow as tf"
   ]
  },
  {
   "cell_type": "code",
   "execution_count": 5,
   "metadata": {},
   "outputs": [],
   "source": [
    "# load in data and partition it\n",
    "newsgroups = fetch_20newsgroups(subset='all', remove=('headers', 'footers', 'quotes')) # load in dataset\n",
    "texts = newsgroups.data\n",
    "labels = newsgroups.target\n",
    "\n",
    "x_train, x_test, y_train, y_test = train_test_split(texts, labels, test_size=0.2, shuffle=True)"
   ]
  },
  {
   "cell_type": "code",
   "execution_count": 6,
   "metadata": {},
   "outputs": [],
   "source": [
    "# tokenize data\n",
    "max_words = 10000\n",
    "tokenizer = tf.keras.preprocessing.text.Tokenizer(num_words=max_words)\n",
    "tokenizer.fit_on_texts(x_train)\n",
    "\n",
    "#convert to sequences of integers\n",
    "sequences_train = tokenizer.texts_to_sequences(x_train)\n",
    "sequences_test = tokenizer.texts_to_sequences(x_test)"
   ]
  },
  {
   "cell_type": "code",
   "execution_count": 7,
   "metadata": {},
   "outputs": [],
   "source": [
    "# pad sequences so they are all the same length\n",
    "padded_train = tf.keras.preprocessing.sequence.pad_sequences(sequences_train)\n",
    "padded_test = tf.keras.preprocessing.sequence.pad_sequences(sequences_test)\n",
    "\n",
    "# encode labels\n",
    "label_encoder = LabelEncoder()\n",
    "encoded_train = label_encoder.fit_transform(y_train)\n",
    "encoded_test = label_encoder.fit_transform(y_test)"
   ]
  },
  {
   "cell_type": "code",
   "execution_count": 8,
   "metadata": {},
   "outputs": [],
   "source": [
    "# create model, consisting of the embedding and convolution layers\n",
    "embedding_dimension = 100\n",
    "model = tf.keras.Sequential([\n",
    "    tf.keras.layers.Embedding(input_dim=max_words, output_dim=100),\n",
    "    tf.keras.layers.Conv1D(128, 5, activation=\"relu\"),\n",
    "    tf.keras.layers.MaxPooling1D(3),\n",
    "    tf.keras.layers.Conv1D(128, 5, activation=\"relu\"),\n",
    "    tf.keras.layers.GlobalMaxPooling1D(),\n",
    "    Dense(20, activation='softmax')\n",
    "])\n",
    "\n",
    "model.compile(optimizer='adam', loss='sparse_categorical_crossentropy', metrics=['accuracy'])"
   ]
  },
  {
   "cell_type": "code",
   "execution_count": 9,
   "metadata": {},
   "outputs": [
    {
     "name": "stdout",
     "output_type": "stream",
     "text": [
      "Epoch 1/10\n",
      "472/472 [==============================] - 852s 2s/step - loss: 2.4337 - accuracy: 0.2230\n",
      "Epoch 2/10\n",
      "472/472 [==============================] - 782s 2s/step - loss: 1.1950 - accuracy: 0.6257\n",
      "Epoch 3/10\n",
      "472/472 [==============================] - 789s 2s/step - loss: 0.7171 - accuracy: 0.7767\n",
      "Epoch 4/10\n",
      "472/472 [==============================] - 796s 2s/step - loss: 0.4559 - accuracy: 0.8625\n",
      "Epoch 5/10\n",
      "472/472 [==============================] - 773s 2s/step - loss: 0.2958 - accuracy: 0.9137\n",
      "Epoch 6/10\n",
      "472/472 [==============================] - 815s 2s/step - loss: 0.2180 - accuracy: 0.9371\n",
      "Epoch 7/10\n",
      "472/472 [==============================] - 799s 2s/step - loss: 0.1804 - accuracy: 0.9492\n",
      "Epoch 8/10\n",
      "472/472 [==============================] - 797s 2s/step - loss: 0.1772 - accuracy: 0.9489\n",
      "Epoch 9/10\n",
      "472/472 [==============================] - 828s 2s/step - loss: 0.1799 - accuracy: 0.9473\n",
      "Epoch 10/10\n",
      "472/472 [==============================] - 864s 2s/step - loss: 0.1913 - accuracy: 0.9422\n",
      "118/118 [==============================] - 29s 240ms/step\n",
      "Accuracy: 0.6172413793103448\n"
     ]
    }
   ],
   "source": [
    "# train the data and test\n",
    "model.fit(padded_train, encoded_train, epochs=10)\n",
    "\n",
    "pred_probs = model.predict(padded_test)\n",
    "preds = np.argmax(pred_probs, axis=1)\n",
    "\n",
    "decoded_test = label_encoder.inverse_transform(encoded_test)\n",
    "decoded_preds = label_encoder.inverse_transform(preds)\n",
    "\n",
    "accuracy = accuracy_score(decoded_test, decoded_preds)\n",
    "print(f\"Accuracy: {accuracy}\")"
   ]
  }
 ],
 "metadata": {
  "kernelspec": {
   "display_name": "Python 3",
   "language": "python",
   "name": "python3"
  },
  "language_info": {
   "codemirror_mode": {
    "name": "ipython",
    "version": 3
   },
   "file_extension": ".py",
   "mimetype": "text/x-python",
   "name": "python",
   "nbconvert_exporter": "python",
   "pygments_lexer": "ipython3",
   "version": "3.11.2"
  }
 },
 "nbformat": 4,
 "nbformat_minor": 2
}
