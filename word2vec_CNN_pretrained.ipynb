{
 "cells": [
  {
   "cell_type": "code",
   "execution_count": 21,
   "metadata": {},
   "outputs": [],
   "source": [
    "import gensim.downloader as api\n",
    "from sklearn.datasets import fetch_20newsgroups\n",
    "from sklearn.model_selection import train_test_split\n",
    "from sklearn.preprocessing import LabelEncoder\n",
    "from sklearn.metrics import accuracy_score\n",
    "from tensorflow.keras.preprocessing.text import Tokenizer\n",
    "from tensorflow.keras.preprocessing.sequence import pad_sequences\n",
    "from tensorflow.keras.models import Sequential\n",
    "from tensorflow.keras.layers import Embedding, Conv1D, MaxPooling1D, Dense, GlobalMaxPooling1D, LSTM\n",
    "import numpy as np\n",
    "import matplotlib.pyplot as plt"
   ]
  },
  {
   "cell_type": "code",
   "execution_count": 22,
   "metadata": {},
   "outputs": [],
   "source": [
    "EMBEDDING_DIMENSIONALITY = 300\n",
    "\n",
    "# load in dataset\n",
    "dataset = fetch_20newsgroups(subset='all', remove=('headers', 'footers'))\n",
    "samples = dataset.data\n",
    "labels = dataset.target"
   ]
  },
  {
   "cell_type": "code",
   "execution_count": 23,
   "metadata": {},
   "outputs": [],
   "source": [
    "# tokenize words from samples\n",
    "tokenizer = Tokenizer()\n",
    "tokenizer.fit_on_texts(samples)\n",
    "num_words = len(tokenizer.word_index) + 1\n",
    "\n",
    "# convert to sequences and pad sequences to all be same size\n",
    "sequences = tokenizer.texts_to_sequences(samples)\n",
    "padded_sequences = pad_sequences(sequences, maxlen=EMBEDDING_DIMENSIONALITY)"
   ]
  },
  {
   "cell_type": "code",
   "execution_count": 24,
   "metadata": {},
   "outputs": [],
   "source": [
    "# partition data\n",
    "x_train, x_test, y_train, y_test = train_test_split(padded_sequences, labels, test_size=0.2, shuffle=True)"
   ]
  },
  {
   "cell_type": "code",
   "execution_count": 25,
   "metadata": {},
   "outputs": [],
   "source": [
    "# load in embeddings and create embedding matrix\n",
    "embeddings = api.load(\"word2vec-google-news-300\")\n",
    "\n",
    "embedding_matrix = np.zeros((num_words, EMBEDDING_DIMENSIONALITY))\n",
    "for word, index in tokenizer.word_index.items():\n",
    "    if word in embeddings:\n",
    "        embedding_matrix[index] = embeddings[word]"
   ]
  },
  {
   "cell_type": "code",
   "execution_count": 26,
   "metadata": {},
   "outputs": [
    {
     "name": "stdout",
     "output_type": "stream",
     "text": [
      "Model: \"sequential_3\"\n",
      "_________________________________________________________________\n",
      " Layer (type)                Output Shape              Param #   \n",
      "=================================================================\n",
      " embedding_3 (Embedding)     (None, 300, 300)          47453100  \n",
      "                                                                 \n",
      " conv1d_6 (Conv1D)           (None, 296, 128)          192128    \n",
      "                                                                 \n",
      " max_pooling1d_3 (MaxPooling  (None, 98, 128)          0         \n",
      " 1D)                                                             \n",
      "                                                                 \n",
      " conv1d_7 (Conv1D)           (None, 94, 128)           82048     \n",
      "                                                                 \n",
      " global_max_pooling1d_3 (Glo  (None, 128)              0         \n",
      " balMaxPooling1D)                                                \n",
      "                                                                 \n",
      " dense_3 (Dense)             (None, 20)                2580      \n",
      "                                                                 \n",
      "=================================================================\n",
      "Total params: 47,729,856\n",
      "Trainable params: 276,756\n",
      "Non-trainable params: 47,453,100\n",
      "_________________________________________________________________\n",
      "None\n"
     ]
    }
   ],
   "source": [
    "# create CNN model and compile\n",
    "model = Sequential([\n",
    "    Embedding(input_dim=num_words, output_dim=EMBEDDING_DIMENSIONALITY, weights=[embedding_matrix], input_length=EMBEDDING_DIMENSIONALITY, trainable=False),\n",
    "    Conv1D(128, 5, activation=\"relu\"),\n",
    "    MaxPooling1D(3),\n",
    "    Conv1D(128, 5, activation=\"relu\"),\n",
    "    GlobalMaxPooling1D(),\n",
    "    Dense(20, activation='softmax')\n",
    "])\n",
    "\n",
    "model.compile(optimizer='adam', loss='sparse_categorical_crossentropy', metrics=['accuracy'])\n",
    "print(model.summary())"
   ]
  },
  {
   "cell_type": "code",
   "execution_count": 27,
   "metadata": {},
   "outputs": [
    {
     "name": "stdout",
     "output_type": "stream",
     "text": [
      "Epoch 1/20\n",
      "106/106 [==============================] - 13s 117ms/step - loss: 2.1811 - accuracy: 0.3329 - val_loss: 1.3916 - val_accuracy: 0.5550\n",
      "Epoch 2/20\n",
      "106/106 [==============================] - 12s 116ms/step - loss: 1.1323 - accuracy: 0.6431 - val_loss: 1.0869 - val_accuracy: 0.6592\n",
      "Epoch 3/20\n",
      "106/106 [==============================] - 12s 117ms/step - loss: 0.8619 - accuracy: 0.7350 - val_loss: 1.0147 - val_accuracy: 0.6658\n",
      "Epoch 4/20\n",
      "106/106 [==============================] - 12s 117ms/step - loss: 0.6892 - accuracy: 0.7963 - val_loss: 0.9282 - val_accuracy: 0.7069\n",
      "Epoch 5/20\n",
      "106/106 [==============================] - 12s 117ms/step - loss: 0.5589 - accuracy: 0.8400 - val_loss: 0.9052 - val_accuracy: 0.7029\n",
      "Epoch 6/20\n",
      "106/106 [==============================] - 12s 117ms/step - loss: 0.4464 - accuracy: 0.8794 - val_loss: 0.8807 - val_accuracy: 0.7268\n",
      "Epoch 7/20\n",
      "106/106 [==============================] - 12s 117ms/step - loss: 0.3386 - accuracy: 0.9207 - val_loss: 0.8871 - val_accuracy: 0.7334\n",
      "Epoch 8/20\n",
      "106/106 [==============================] - 12s 117ms/step - loss: 0.2606 - accuracy: 0.9465 - val_loss: 0.8908 - val_accuracy: 0.7294\n",
      "Epoch 9/20\n",
      "106/106 [==============================] - 12s 117ms/step - loss: 0.1951 - accuracy: 0.9662 - val_loss: 0.8786 - val_accuracy: 0.7434\n",
      "Epoch 10/20\n",
      "106/106 [==============================] - 12s 117ms/step - loss: 0.1433 - accuracy: 0.9818 - val_loss: 0.8801 - val_accuracy: 0.7493\n",
      "Epoch 11/20\n",
      "106/106 [==============================] - 12s 117ms/step - loss: 0.1079 - accuracy: 0.9878 - val_loss: 0.9119 - val_accuracy: 0.7493\n",
      "Epoch 12/20\n",
      "106/106 [==============================] - 12s 117ms/step - loss: 0.0819 - accuracy: 0.9919 - val_loss: 0.9097 - val_accuracy: 0.7480\n",
      "Epoch 13/20\n",
      "106/106 [==============================] - 12s 117ms/step - loss: 0.0639 - accuracy: 0.9931 - val_loss: 0.9525 - val_accuracy: 0.7440\n",
      "Epoch 14/20\n",
      "106/106 [==============================] - 12s 117ms/step - loss: 0.0532 - accuracy: 0.9937 - val_loss: 0.9584 - val_accuracy: 0.7566\n",
      "Epoch 15/20\n",
      "106/106 [==============================] - 12s 117ms/step - loss: 0.0462 - accuracy: 0.9937 - val_loss: 0.9856 - val_accuracy: 0.7447\n",
      "Epoch 16/20\n",
      "106/106 [==============================] - 12s 118ms/step - loss: 0.0419 - accuracy: 0.9941 - val_loss: 0.9670 - val_accuracy: 0.7533\n",
      "Epoch 17/20\n",
      "106/106 [==============================] - 12s 117ms/step - loss: 0.0372 - accuracy: 0.9945 - val_loss: 0.9897 - val_accuracy: 0.7546\n",
      "Epoch 18/20\n",
      "106/106 [==============================] - 13s 118ms/step - loss: 0.0335 - accuracy: 0.9951 - val_loss: 1.0208 - val_accuracy: 0.7586\n",
      "Epoch 19/20\n",
      "106/106 [==============================] - 13s 121ms/step - loss: 0.0318 - accuracy: 0.9951 - val_loss: 1.0160 - val_accuracy: 0.7580\n",
      "Epoch 20/20\n",
      "106/106 [==============================] - 13s 127ms/step - loss: 0.0310 - accuracy: 0.9948 - val_loss: 1.0178 - val_accuracy: 0.7613\n"
     ]
    }
   ],
   "source": [
    "# train model\n",
    "model_history = model.fit(x_train, y_train, batch_size=128, epochs=20, validation_split=0.1)"
   ]
  },
  {
   "cell_type": "code",
   "execution_count": 28,
   "metadata": {},
   "outputs": [
    {
     "data": {
      "image/png": "[encoded data removed]",
      "text/plain": [
       "<Figure size 640x480 with 1 Axes>"
      ]
     },
     "metadata": {},
     "output_type": "display_data"
    }
   ],
   "source": [
    "# plot loss curves\n",
    "plt.plot(model_history.history['loss'], label='Training Loss')\n",
    "plt.plot(model_history.history['val_loss'], label='Validation Loss')\n",
    "plt.title('Training and Validation Loss')\n",
    "plt.xlabel('Epoch')\n",
    "plt.ylabel('Loss')\n",
    "plt.legend()\n",
    "plt.show()"
   ]
  },
  {
   "cell_type": "code",
   "execution_count": 29,
   "metadata": {},
   "outputs": [
    {
     "name": "stdout",
     "output_type": "stream",
     "text": [
      "118/118 [==============================] - 1s 12ms/step\n",
      "Accuracy: 0.7596816976127321\n"
     ]
    }
   ],
   "source": [
    "# get predictions and calculate accuracy\n",
    "predictions = np.argmax(model.predict(x_test), axis=1)\n",
    "accuracy = accuracy_score(y_test, predictions)\n",
    "print(f\"Accuracy: {accuracy}\")"
   ]
  }
 ],
 "metadata": {
  "kernelspec": {
   "display_name": "Python 3",
   "language": "python",
   "name": "python3"
  },
  "language_info": {
   "codemirror_mode": {
    "name": "ipython",
    "version": 3
   },
   "file_extension": ".py",
   "mimetype": "text/x-python",
   "name": "python",
   "nbconvert_exporter": "python",
   "pygments_lexer": "ipython3",
   "version": "3.11.2"
  }
 },
 "nbformat": 4,
 "nbformat_minor": 2
}
