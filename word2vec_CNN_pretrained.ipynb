{
 "cells": [
  {
   "cell_type": "code",
   "execution_count": 75,
   "metadata": {
    "tags": []
   },
   "outputs": [],
   "source": [
    "# Import libraries\n",
    "import gensim.downloader as api\n",
    "import matplotlib.pyplot as plt\n",
    "import numpy as np\n",
    "from sklearn.datasets import fetch_20newsgroups\n",
    "from sklearn.metrics import accuracy_score\n",
    "from sklearn.model_selection import train_test_split\n",
    "from tensorflow.keras.layers import Conv1D, Dense, Embedding, GlobalMaxPooling1D, MaxPooling1D, BatchNormalization, Dropout\n",
    "from tensorflow.keras.models import Sequential\n",
    "from tensorflow.keras.preprocessing.sequence import pad_sequences\n",
    "from tensorflow.keras.preprocessing.text import Tokenizer\n",
    "import tensorflow as tf"
   ]
  },
  {
   "cell_type": "code",
   "execution_count": 76,
   "metadata": {
    "tags": []
   },
   "outputs": [],
   "source": [
    "# Import preprocessing method\n",
    "from preprocessing import preprocess"
   ]
  },
  {
   "cell_type": "code",
   "execution_count": 77,
   "metadata": {
    "tags": []
   },
   "outputs": [],
   "source": [
    "# Define constants\n",
    "BATCH_SIZE = 128\n",
    "ENCODED_VECTOR_SIZE = 300\n",
    "LSTM_SIZE = 100\n",
    "MAX_WORDS = 10000\n",
    "NUM_CLASSES = 20\n",
    "NUM_EPOCHS = 30\n",
    "OUTPUT_SIZE = 100\n",
    "TEST_SIZE = 0.2\n",
    "VALIDATION_SPLIT = 0.1"
   ]
  },
  {
   "cell_type": "code",
   "execution_count": 78,
   "metadata": {
    "tags": []
   },
   "outputs": [],
   "source": [
    "# Load datasets\n",
    "newsgroups = fetch_20newsgroups(subset='all', remove=('headers', 'footers'))\n",
    "texts = newsgroups.data\n",
    "labels = newsgroups.target"
   ]
  },
  {
   "cell_type": "code",
   "execution_count": 79,
   "metadata": {
    "tags": []
   },
   "outputs": [],
   "source": [
    "# Preprocess texts\n",
    "preprocessed_texts = [preprocess(text) for text in texts]\n",
    "\n",
    "# Instantiate tokenizer\n",
    "# tokenizer = Tokenizer(num_words=MAX_WORDS)\n",
    "tokenizer = Tokenizer()\n",
    "\n",
    "# Tokenize words from samples\n",
    "tokenizer.fit_on_texts(preprocessed_texts)\n",
    "num_words = len(tokenizer.word_index) + 1\n",
    "\n",
    "# Convert to vetorized sequences \n",
    "sequences = tokenizer.texts_to_sequences(preprocessed_texts)\n",
    "\n",
    "# Pad sequences to all be same size\n",
    "# padded_sequences = pad_sequences(sequences)\n",
    "padded_sequences = pad_sequences(sequences, maxlen=ENCODED_VECTOR_SIZE)\n",
    "\n",
    "# Split the data into training and test sets\n",
    "x_train, x_test, y_train, y_test = train_test_split(padded_sequences, labels, test_size=TEST_SIZE, shuffle=True)"
   ]
  },
  {
   "cell_type": "code",
   "execution_count": 80,
   "metadata": {
    "tags": []
   },
   "outputs": [],
   "source": [
    "# Load in embeddings\n",
    "embeddings = api.load(\"word2vec-google-news-300\")\n",
    "\n",
    "# Create embedding matrix\n",
    "embedding_matrix = np.zeros((num_words, ENCODED_VECTOR_SIZE))\n",
    "for word, index in tokenizer.word_index.items():\n",
    "    if word in embeddings:\n",
    "        embedding_matrix[index] = embeddings[word]"
   ]
  },
  {
   "cell_type": "code",
   "execution_count": 87,
   "metadata": {
    "tags": []
   },
   "outputs": [
    {
     "name": "stdout",
     "output_type": "stream",
     "text": [
      "Model: \"sequential_12\"\n",
      "_________________________________________________________________\n",
      " Layer (type)                Output Shape              Param #   \n",
      "=================================================================\n",
      " embedding_14 (Embedding)    (None, 300, 300)          44484000  \n",
      "                                                                 \n",
      " dropout_12 (Dropout)        (None, 300, 300)          0         \n",
      "                                                                 \n",
      " conv1d_24 (Conv1D)          (None, 298, 128)          115328    \n",
      "                                                                 \n",
      " max_pooling1d_12 (MaxPoolin  (None, 99, 128)          0         \n",
      " g1D)                                                            \n",
      "                                                                 \n",
      " conv1d_25 (Conv1D)          (None, 97, 128)           49280     \n",
      "                                                                 \n",
      " global_max_pooling1d_12 (Gl  (None, 128)              0         \n",
      " obalMaxPooling1D)                                               \n",
      "                                                                 \n",
      " dropout_13 (Dropout)        (None, 128)               0         \n",
      "                                                                 \n",
      " dense_22 (Dense)            (None, 20)                2580      \n",
      "                                                                 \n",
      "=================================================================\n",
      "Total params: 44,651,188\n",
      "Trainable params: 167,188\n",
      "Non-trainable params: 44,484,000\n",
      "_________________________________________________________________\n",
      "None\n"
     ]
    }
   ],
   "source": [
    "# Define CNN model\n",
    "model = Sequential([\n",
    "    Embedding(input_dim=num_words, output_dim=ENCODED_VECTOR_SIZE, weights=[embedding_matrix], input_length=ENCODED_VECTOR_SIZE, trainable=False),\n",
    "    Dropout(0.5),\n",
    "    Conv1D(BATCH_SIZE, 3, activation=\"relu\"),\n",
    "    MaxPooling1D(3),\n",
    "    Conv1D(BATCH_SIZE, 3, activation=\"relu\"),\n",
    "    GlobalMaxPooling1D(),\n",
    "    Dropout(0.5),\n",
    "    Dense(NUM_CLASSES, activation='softmax')\n",
    "])\n",
    "\n",
    "# Compile model\n",
    "initial_lr = 0.001\n",
    "lr_scheduler = tf.keras.optimizers.schedules.ExponentialDecay(initial_learning_rate=initial_lr, decay_steps=10000, decay_rate=0.95)\n",
    "optimizer = tf.keras.optimizers.Adam(learning_rate=lr_scheduler)\n",
    "model.compile(optimizer=optimizer, loss='sparse_categorical_crossentropy', metrics=['accuracy'])\n",
    "print(model.summary())"
   ]
  },
  {
   "cell_type": "code",
   "execution_count": 88,
   "metadata": {
    "tags": []
   },
   "outputs": [
    {
     "name": "stdout",
     "output_type": "stream",
     "text": [
      "Epoch 1/30\n",
      "106/106 [==============================] - 14s 130ms/step - loss: 2.7884 - accuracy: 0.1296 - val_loss: 2.2382 - val_accuracy: 0.3495\n",
      "Epoch 2/30\n",
      "106/106 [==============================] - 14s 130ms/step - loss: 2.0403 - accuracy: 0.3219 - val_loss: 1.5427 - val_accuracy: 0.5272\n",
      "Epoch 3/30\n",
      "106/106 [==============================] - 13s 122ms/step - loss: 1.6298 - accuracy: 0.4466 - val_loss: 1.2878 - val_accuracy: 0.5922\n",
      "Epoch 4/30\n",
      "106/106 [==============================] - 13s 122ms/step - loss: 1.4490 - accuracy: 0.5147 - val_loss: 1.1723 - val_accuracy: 0.6200\n",
      "Epoch 5/30\n",
      "106/106 [==============================] - 13s 123ms/step - loss: 1.3374 - accuracy: 0.5598 - val_loss: 1.0985 - val_accuracy: 0.6512\n",
      "Epoch 6/30\n",
      "106/106 [==============================] - 13s 123ms/step - loss: 1.2600 - accuracy: 0.5866 - val_loss: 1.0337 - val_accuracy: 0.6698\n",
      "Epoch 7/30\n",
      "106/106 [==============================] - 13s 123ms/step - loss: 1.1928 - accuracy: 0.6121 - val_loss: 1.0070 - val_accuracy: 0.6691\n",
      "Epoch 8/30\n",
      "106/106 [==============================] - 13s 126ms/step - loss: 1.1492 - accuracy: 0.6239 - val_loss: 0.9920 - val_accuracy: 0.6810\n",
      "Epoch 9/30\n",
      "106/106 [==============================] - 13s 124ms/step - loss: 1.1144 - accuracy: 0.6397 - val_loss: 0.9716 - val_accuracy: 0.6830\n",
      "Epoch 10/30\n",
      "106/106 [==============================] - 13s 122ms/step - loss: 1.0883 - accuracy: 0.6487 - val_loss: 0.9468 - val_accuracy: 0.6877\n",
      "Epoch 11/30\n",
      "106/106 [==============================] - 13s 122ms/step - loss: 1.0496 - accuracy: 0.6605 - val_loss: 0.9415 - val_accuracy: 0.6903\n",
      "Epoch 12/30\n",
      "106/106 [==============================] - 13s 126ms/step - loss: 1.0398 - accuracy: 0.6606 - val_loss: 0.9154 - val_accuracy: 0.7036\n",
      "Epoch 13/30\n",
      "106/106 [==============================] - 13s 125ms/step - loss: 1.0008 - accuracy: 0.6784 - val_loss: 0.9037 - val_accuracy: 0.7023\n",
      "Epoch 14/30\n",
      "106/106 [==============================] - 14s 128ms/step - loss: 0.9853 - accuracy: 0.6824 - val_loss: 0.9052 - val_accuracy: 0.7036\n",
      "Epoch 15/30\n",
      "106/106 [==============================] - 13s 123ms/step - loss: 0.9810 - accuracy: 0.6818 - val_loss: 0.8917 - val_accuracy: 0.7049\n",
      "Epoch 16/30\n",
      "106/106 [==============================] - 13s 127ms/step - loss: 0.9465 - accuracy: 0.6893 - val_loss: 0.8875 - val_accuracy: 0.7248\n",
      "Epoch 17/30\n",
      "106/106 [==============================] - 13s 124ms/step - loss: 0.9290 - accuracy: 0.6987 - val_loss: 0.8678 - val_accuracy: 0.7208\n",
      "Epoch 18/30\n",
      "106/106 [==============================] - 13s 122ms/step - loss: 0.9249 - accuracy: 0.7054 - val_loss: 0.8734 - val_accuracy: 0.7168\n",
      "Epoch 19/30\n",
      "106/106 [==============================] - 13s 120ms/step - loss: 0.8982 - accuracy: 0.7109 - val_loss: 0.8615 - val_accuracy: 0.7314\n",
      "Epoch 20/30\n",
      "106/106 [==============================] - 13s 120ms/step - loss: 0.8836 - accuracy: 0.7130 - val_loss: 0.8540 - val_accuracy: 0.7367\n",
      "Epoch 21/30\n",
      "106/106 [==============================] - 13s 120ms/step - loss: 0.8707 - accuracy: 0.7170 - val_loss: 0.8443 - val_accuracy: 0.7354\n",
      "Epoch 22/30\n",
      "106/106 [==============================] - 13s 120ms/step - loss: 0.8657 - accuracy: 0.7162 - val_loss: 0.8495 - val_accuracy: 0.7328\n",
      "Epoch 23/30\n",
      "106/106 [==============================] - 13s 121ms/step - loss: 0.8436 - accuracy: 0.7304 - val_loss: 0.8347 - val_accuracy: 0.7414\n",
      "Epoch 24/30\n",
      "106/106 [==============================] - 13s 120ms/step - loss: 0.8392 - accuracy: 0.7248 - val_loss: 0.8300 - val_accuracy: 0.7473\n",
      "Epoch 25/30\n",
      "106/106 [==============================] - 13s 120ms/step - loss: 0.8215 - accuracy: 0.7362 - val_loss: 0.8262 - val_accuracy: 0.7460\n",
      "Epoch 26/30\n",
      "106/106 [==============================] - 14s 128ms/step - loss: 0.8203 - accuracy: 0.7315 - val_loss: 0.8366 - val_accuracy: 0.7440\n",
      "Epoch 27/30\n",
      "106/106 [==============================] - 13s 120ms/step - loss: 0.7984 - accuracy: 0.7392 - val_loss: 0.8224 - val_accuracy: 0.7507\n",
      "Epoch 28/30\n",
      "106/106 [==============================] - 13s 122ms/step - loss: 0.7919 - accuracy: 0.7419 - val_loss: 0.8099 - val_accuracy: 0.7520\n",
      "Epoch 29/30\n",
      "106/106 [==============================] - 13s 126ms/step - loss: 0.7725 - accuracy: 0.7501 - val_loss: 0.8347 - val_accuracy: 0.7520\n",
      "Epoch 30/30\n",
      "106/106 [==============================] - 13s 124ms/step - loss: 0.7833 - accuracy: 0.7485 - val_loss: 0.8136 - val_accuracy: 0.7493\n"
     ]
    }
   ],
   "source": [
    "# Train the model\n",
    "model_history = model.fit(x_train, y_train, batch_size=BATCH_SIZE, epochs=NUM_EPOCHS, validation_split=VALIDATION_SPLIT)"
   ]
  },
  {
   "cell_type": "code",
   "execution_count": 91,
   "metadata": {
    "tags": []
   },
   "outputs": [
    {
     "data": {
      "image/png": "[encoded data removed]",
      "text/plain": [
       "<Figure size 640x480 with 1 Axes>"
      ]
     },
     "metadata": {},
     "output_type": "display_data"
    }
   ],
   "source": [
    "# Plot loss curves\n",
    "plt.plot(model_history.history['loss'], label='Training Loss')\n",
    "plt.plot(model_history.history['val_loss'], label='Validation Loss')\n",
    "plt.title('Training and Validation Loss')\n",
    "plt.xlabel('Epoch')\n",
    "plt.ylabel('Loss')\n",
    "plt.legend()\n",
    "plt.show()"
   ]
  },
  {
   "cell_type": "code",
   "execution_count": 92,
   "metadata": {
    "tags": []
   },
   "outputs": [
    {
     "name": "stdout",
     "output_type": "stream",
     "text": [
      "118/118 [==============================] - 1s 9ms/step\n",
      "Accuracy: 0.7562334217506631\n"
     ]
    }
   ],
   "source": [
    "# Get predictions and calculate accuracy\n",
    "predictions = np.argmax(model.predict(x_test), axis=1)\n",
    "accuracy = accuracy_score(y_test, predictions)\n",
    "print(f\"Accuracy: {accuracy}\")"
   ]
  },
  {
   "cell_type": "code",
   "execution_count": null,
   "metadata": {},
   "outputs": [],
   "source": []
  }
 ],
 "metadata": {
  "kernelspec": {
   "display_name": "Python 3 (ipykernel)",
   "language": "python",
   "name": "python3"
  },
  "language_info": {
   "codemirror_mode": {
    "name": "ipython",
    "version": 3
   },
   "file_extension": ".py",
   "mimetype": "text/x-python",
   "name": "python",
   "nbconvert_exporter": "python",
   "pygments_lexer": "ipython3",
   "version": "3.11.2"
  }
 },
 "nbformat": 4,
 "nbformat_minor": 4
}
