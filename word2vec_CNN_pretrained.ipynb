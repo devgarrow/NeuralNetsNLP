{
 "cells": [
  {
   "cell_type": "code",
   "execution_count": 95,
   "metadata": {
    "tags": []
   },
   "outputs": [],
   "source": [
    "# Import libraries\n",
    "import gensim.downloader as api\n",
    "import matplotlib.pyplot as plt\n",
    "import numpy as np\n",
    "from sklearn.datasets import fetch_20newsgroups\n",
    "from sklearn.metrics import accuracy_score\n",
    "from sklearn.model_selection import train_test_split\n",
    "from tensorflow.keras.layers import Conv1D, Dense, Embedding, GlobalMaxPooling1D, MaxPooling1D, BatchNormalization, Dropout\n",
    "from tensorflow.keras.models import Sequential\n",
    "from tensorflow.keras.preprocessing.sequence import pad_sequences\n",
    "from tensorflow.keras.preprocessing.text import Tokenizer\n",
    "import tensorflow as tf"
   ]
  },
  {
   "cell_type": "code",
   "execution_count": 96,
   "metadata": {
    "tags": []
   },
   "outputs": [],
   "source": [
    "# Import preprocessing method\n",
    "from preprocessing import preprocess"
   ]
  },
  {
   "cell_type": "code",
   "execution_count": 97,
   "metadata": {
    "tags": []
   },
   "outputs": [],
   "source": [
    "# Define constants\n",
    "BATCH_SIZE = 128\n",
    "ENCODED_VECTOR_SIZE = 300\n",
    "LSTM_SIZE = 100\n",
    "MAX_WORDS = 10000\n",
    "NUM_CLASSES = 20\n",
    "NUM_EPOCHS = 30\n",
    "OUTPUT_SIZE = 100\n",
    "TEST_SIZE = 0.2\n",
    "VALIDATION_SPLIT = 0.1"
   ]
  },
  {
   "cell_type": "code",
   "execution_count": 98,
   "metadata": {
    "tags": []
   },
   "outputs": [],
   "source": [
    "# Load datasets\n",
    "newsgroups = fetch_20newsgroups(subset='all', remove=('headers', 'footers'))\n",
    "texts = newsgroups.data\n",
    "labels = newsgroups.target"
   ]
  },
  {
   "cell_type": "code",
   "execution_count": 99,
   "metadata": {
    "tags": []
   },
   "outputs": [],
   "source": [
    "# Preprocess texts\n",
    "preprocessed_texts = [preprocess(text) for text in texts]\n",
    "\n",
    "# Instantiate tokenizer\n",
    "# tokenizer = Tokenizer(num_words=MAX_WORDS)\n",
    "tokenizer = Tokenizer()\n",
    "\n",
    "# Tokenize words from samples\n",
    "tokenizer.fit_on_texts(preprocessed_texts)\n",
    "num_words = len(tokenizer.word_index) + 1\n",
    "\n",
    "# Convert to vetorized sequences \n",
    "sequences = tokenizer.texts_to_sequences(preprocessed_texts)\n",
    "\n",
    "# Pad sequences to all be same size\n",
    "# padded_sequences = pad_sequences(sequences)\n",
    "padded_sequences = pad_sequences(sequences, maxlen=ENCODED_VECTOR_SIZE)\n",
    "\n",
    "# Split the data into training and test sets\n",
    "x_train, x_test, y_train, y_test = train_test_split(padded_sequences, labels, test_size=TEST_SIZE, shuffle=True)"
   ]
  },
  {
   "cell_type": "code",
   "execution_count": 100,
   "metadata": {
    "tags": []
   },
   "outputs": [],
   "source": [
    "# Load in embeddings\n",
    "embeddings = api.load(\"word2vec-google-news-300\")\n",
    "\n",
    "# Create embedding matrix\n",
    "embedding_matrix = np.zeros((num_words, ENCODED_VECTOR_SIZE))\n",
    "for word, index in tokenizer.word_index.items():\n",
    "    if word in embeddings:\n",
    "        embedding_matrix[index] = embeddings[word]"
   ]
  },
  {
   "cell_type": "code",
   "execution_count": 106,
   "metadata": {
    "tags": []
   },
   "outputs": [
    {
     "name": "stdout",
     "output_type": "stream",
     "text": [
      "Model: \"sequential_15\"\n",
      "_________________________________________________________________\n",
      " Layer (type)                Output Shape              Param #   \n",
      "=================================================================\n",
      " embedding_17 (Embedding)    (None, 300, 300)          44484000  \n",
      "                                                                 \n",
      " dropout_18 (Dropout)        (None, 300, 300)          0         \n",
      "                                                                 \n",
      " conv1d_32 (Conv1D)          (None, 298, 300)          270300    \n",
      "                                                                 \n",
      " max_pooling1d_17 (MaxPoolin  (None, 99, 300)          0         \n",
      " g1D)                                                            \n",
      "                                                                 \n",
      " conv1d_33 (Conv1D)          (None, 97, 300)           270300    \n",
      "                                                                 \n",
      " max_pooling1d_18 (MaxPoolin  (None, 32, 300)          0         \n",
      " g1D)                                                            \n",
      "                                                                 \n",
      " conv1d_34 (Conv1D)          (None, 30, 128)           115328    \n",
      "                                                                 \n",
      " max_pooling1d_19 (MaxPoolin  (None, 10, 128)          0         \n",
      " g1D)                                                            \n",
      "                                                                 \n",
      " conv1d_35 (Conv1D)          (None, 8, 128)            49280     \n",
      "                                                                 \n",
      " global_max_pooling1d_15 (Gl  (None, 128)              0         \n",
      " obalMaxPooling1D)                                               \n",
      "                                                                 \n",
      " dropout_19 (Dropout)        (None, 128)               0         \n",
      "                                                                 \n",
      " dense_25 (Dense)            (None, 20)                2580      \n",
      "                                                                 \n",
      "=================================================================\n",
      "Total params: 45,191,788\n",
      "Trainable params: 707,788\n",
      "Non-trainable params: 44,484,000\n",
      "_________________________________________________________________\n",
      "None\n"
     ]
    }
   ],
   "source": [
    "# Define CNN model\n",
    "model = Sequential([\n",
    "    Embedding(input_dim=num_words, output_dim=ENCODED_VECTOR_SIZE, weights=[embedding_matrix], input_length=ENCODED_VECTOR_SIZE, trainable=False),\n",
    "    Dropout(0.5),\n",
    "    Conv1D(ENCODED_VECTOR_SIZE, 3, activation=\"relu\"),\n",
    "    MaxPooling1D(3),\n",
    "    Conv1D(ENCODED_VECTOR_SIZE, 3, activation=\"relu\"),\n",
    "    MaxPooling1D(3),\n",
    "    Conv1D(BATCH_SIZE, 3, activation=\"relu\"),\n",
    "    MaxPooling1D(3),\n",
    "    Conv1D(BATCH_SIZE, 3, activation=\"relu\"),\n",
    "    GlobalMaxPooling1D(),\n",
    "    Dropout(0.5),\n",
    "    Dense(NUM_CLASSES, activation='softmax')\n",
    "])\n",
    "\n",
    "# Compile model\n",
    "initial_lr = 0.001\n",
    "lr_scheduler = tf.keras.optimizers.schedules.ExponentialDecay(initial_learning_rate=initial_lr, decay_steps=10000, decay_rate=0.95)\n",
    "optimizer = tf.keras.optimizers.Adam(learning_rate=lr_scheduler)\n",
    "model.compile(optimizer=optimizer, loss='sparse_categorical_crossentropy', metrics=['accuracy'])\n",
    "print(model.summary())"
   ]
  },
  {
   "cell_type": "code",
   "execution_count": 107,
   "metadata": {
    "tags": []
   },
   "outputs": [
    {
     "name": "stdout",
     "output_type": "stream",
     "text": [
      "Epoch 1/30\n"
     ]
    },
    {
     "name": "stdout",
     "output_type": "stream",
     "text": [
      "106/106 [==============================] - 26s 239ms/step - loss: 2.8346 - accuracy: 0.0912 - val_loss: 2.3500 - val_accuracy: 0.2361\n",
      "Epoch 2/30\n",
      "106/106 [==============================] - 25s 235ms/step - loss: 2.1353 - accuracy: 0.2698 - val_loss: 1.6203 - val_accuracy: 0.4788\n",
      "Epoch 3/30\n",
      "106/106 [==============================] - 25s 236ms/step - loss: 1.6595 - accuracy: 0.4113 - val_loss: 1.3185 - val_accuracy: 0.5424\n",
      "Epoch 4/30\n",
      "106/106 [==============================] - 25s 236ms/step - loss: 1.4126 - accuracy: 0.5106 - val_loss: 1.1158 - val_accuracy: 0.6141\n",
      "Epoch 5/30\n",
      "106/106 [==============================] - 25s 236ms/step - loss: 1.2353 - accuracy: 0.5792 - val_loss: 1.0332 - val_accuracy: 0.6532\n",
      "Epoch 6/30\n",
      "106/106 [==============================] - 25s 236ms/step - loss: 1.1386 - accuracy: 0.6087 - val_loss: 1.0017 - val_accuracy: 0.6572\n",
      "Epoch 7/30\n",
      "106/106 [==============================] - 25s 237ms/step - loss: 1.0537 - accuracy: 0.6436 - val_loss: 0.9437 - val_accuracy: 0.6804\n",
      "Epoch 8/30\n",
      "106/106 [==============================] - 25s 236ms/step - loss: 0.9778 - accuracy: 0.6747 - val_loss: 0.8778 - val_accuracy: 0.7069\n",
      "Epoch 9/30\n",
      "106/106 [==============================] - 25s 238ms/step - loss: 0.9088 - accuracy: 0.6946 - val_loss: 0.8538 - val_accuracy: 0.7182\n",
      "Epoch 10/30\n",
      "106/106 [==============================] - 26s 241ms/step - loss: 0.8639 - accuracy: 0.7115 - val_loss: 0.8521 - val_accuracy: 0.7235\n",
      "Epoch 11/30\n",
      "106/106 [==============================] - 26s 241ms/step - loss: 0.7947 - accuracy: 0.7403 - val_loss: 0.8088 - val_accuracy: 0.7467\n",
      "Epoch 12/30\n",
      "106/106 [==============================] - 25s 237ms/step - loss: 0.7579 - accuracy: 0.7460 - val_loss: 0.7561 - val_accuracy: 0.7460\n",
      "Epoch 13/30\n",
      "106/106 [==============================] - 25s 237ms/step - loss: 0.7177 - accuracy: 0.7689 - val_loss: 0.7796 - val_accuracy: 0.7520\n",
      "Epoch 14/30\n",
      "106/106 [==============================] - 25s 238ms/step - loss: 0.6760 - accuracy: 0.7800 - val_loss: 0.7608 - val_accuracy: 0.7566\n",
      "Epoch 15/30\n",
      "106/106 [==============================] - 25s 239ms/step - loss: 0.6343 - accuracy: 0.7951 - val_loss: 0.7658 - val_accuracy: 0.7586\n",
      "Epoch 16/30\n",
      "106/106 [==============================] - 26s 247ms/step - loss: 0.5959 - accuracy: 0.8063 - val_loss: 0.7814 - val_accuracy: 0.7619\n",
      "Epoch 17/30\n",
      "106/106 [==============================] - 26s 246ms/step - loss: 0.5699 - accuracy: 0.8150 - val_loss: 0.7495 - val_accuracy: 0.7765\n",
      "Epoch 18/30\n",
      "106/106 [==============================] - 25s 233ms/step - loss: 0.5507 - accuracy: 0.8179 - val_loss: 0.7625 - val_accuracy: 0.7759\n",
      "Epoch 19/30\n",
      "106/106 [==============================] - 25s 233ms/step - loss: 0.5073 - accuracy: 0.8345 - val_loss: 0.7143 - val_accuracy: 0.7858\n",
      "Epoch 20/30\n",
      "106/106 [==============================] - 26s 242ms/step - loss: 0.4847 - accuracy: 0.8438 - val_loss: 0.7981 - val_accuracy: 0.7732\n",
      "Epoch 21/30\n",
      "106/106 [==============================] - 25s 238ms/step - loss: 0.4680 - accuracy: 0.8469 - val_loss: 0.7811 - val_accuracy: 0.7759\n",
      "Epoch 22/30\n",
      "106/106 [==============================] - 25s 238ms/step - loss: 0.4548 - accuracy: 0.8537 - val_loss: 0.7563 - val_accuracy: 0.7759\n",
      "Epoch 23/30\n",
      "106/106 [==============================] - 25s 238ms/step - loss: 0.4217 - accuracy: 0.8589 - val_loss: 0.8106 - val_accuracy: 0.7805\n",
      "Epoch 24/30\n",
      "106/106 [==============================] - 25s 239ms/step - loss: 0.4170 - accuracy: 0.8603 - val_loss: 0.8085 - val_accuracy: 0.7865\n",
      "Epoch 25/30\n",
      "106/106 [==============================] - 25s 237ms/step - loss: 0.3830 - accuracy: 0.8729 - val_loss: 0.8291 - val_accuracy: 0.7832\n",
      "Epoch 26/30\n",
      "106/106 [==============================] - 26s 247ms/step - loss: 0.3619 - accuracy: 0.8816 - val_loss: 0.8496 - val_accuracy: 0.7785\n",
      "Epoch 27/30\n",
      "106/106 [==============================] - 27s 259ms/step - loss: 0.3651 - accuracy: 0.8829 - val_loss: 0.8391 - val_accuracy: 0.7785\n",
      "Epoch 28/30\n",
      "106/106 [==============================] - 27s 256ms/step - loss: 0.3414 - accuracy: 0.8876 - val_loss: 0.8325 - val_accuracy: 0.7944\n",
      "Epoch 29/30\n",
      "106/106 [==============================] - 26s 246ms/step - loss: 0.3110 - accuracy: 0.8985 - val_loss: 0.8760 - val_accuracy: 0.7792\n",
      "Epoch 30/30\n",
      "106/106 [==============================] - 26s 247ms/step - loss: 0.3092 - accuracy: 0.9001 - val_loss: 0.8867 - val_accuracy: 0.7905\n"
     ]
    }
   ],
   "source": [
    "# Train the model\n",
    "model_history = model.fit(x_train, y_train, batch_size=BATCH_SIZE, epochs=NUM_EPOCHS, validation_split=VALIDATION_SPLIT)"
   ]
  },
  {
   "cell_type": "code",
   "execution_count": 108,
   "metadata": {
    "tags": []
   },
   "outputs": [
    {
     "data": {
      "image/png": "[encoded data removed]",
      "text/plain": [
       "<Figure size 640x480 with 1 Axes>"
      ]
     },
     "metadata": {},
     "output_type": "display_data"
    }
   ],
   "source": [
    "# Plot loss curves\n",
    "plt.plot(model_history.history['loss'], label='Training Loss')\n",
    "plt.plot(model_history.history['val_loss'], label='Validation Loss')\n",
    "plt.title('Training and Validation Loss')\n",
    "plt.xlabel('Epoch')\n",
    "plt.ylabel('Loss')\n",
    "plt.legend()\n",
    "plt.show()"
   ]
  },
  {
   "cell_type": "code",
   "execution_count": 109,
   "metadata": {
    "tags": []
   },
   "outputs": [
    {
     "name": "stdout",
     "output_type": "stream",
     "text": [
      "118/118 [==============================] - 2s 19ms/step\n",
      "Accuracy: 0.7843501326259947\n"
     ]
    }
   ],
   "source": [
    "# Get predictions and calculate accuracy\n",
    "predictions = np.argmax(model.predict(x_test), axis=1)\n",
    "accuracy = accuracy_score(y_test, predictions)\n",
    "print(f\"Accuracy: {accuracy}\")"
   ]
  },
  {
   "cell_type": "code",
   "execution_count": null,
   "metadata": {},
   "outputs": [],
   "source": []
  }
 ],
 "metadata": {
  "kernelspec": {
   "display_name": "Python 3 (ipykernel)",
   "language": "python",
   "name": "python3"
  },
  "language_info": {
   "codemirror_mode": {
    "name": "ipython",
    "version": 3
   },
   "file_extension": ".py",
   "mimetype": "text/x-python",
   "name": "python",
   "nbconvert_exporter": "python",
   "pygments_lexer": "ipython3",
   "version": "3.11.2"
  }
 },
 "nbformat": 4,
 "nbformat_minor": 4
}
