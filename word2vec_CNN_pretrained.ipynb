{
 "cells": [
  {
   "cell_type": "code",
   "execution_count": 95,
   "metadata": {
    "tags": []
   },
   "outputs": [],
   "source": [
    "# Import libraries\n",
    "import gensim.downloader as api\n",
    "import matplotlib.pyplot as plt\n",
    "import numpy as np\n",
    "from sklearn.datasets import fetch_20newsgroups\n",
    "from sklearn.metrics import accuracy_score\n",
    "from sklearn.model_selection import train_test_split\n",
    "from tensorflow.keras.layers import Conv1D, Dense, Embedding, GlobalMaxPooling1D, MaxPooling1D, BatchNormalization, Dropout\n",
    "from tensorflow.keras.models import Sequential\n",
    "from tensorflow.keras.preprocessing.sequence import pad_sequences\n",
    "from tensorflow.keras.preprocessing.text import Tokenizer\n",
    "import tensorflow as tf"
   ]
  },
  {
   "cell_type": "code",
   "execution_count": 96,
   "metadata": {
    "tags": []
   },
   "outputs": [],
   "source": [
    "# Import preprocessing method\n",
    "from preprocessing import preprocess"
   ]
  },
  {
   "cell_type": "code",
   "execution_count": 97,
   "metadata": {
    "tags": []
   },
   "outputs": [],
   "source": [
    "# Define constants\n",
    "BATCH_SIZE = 128\n",
    "ENCODED_VECTOR_SIZE = 300\n",
    "LSTM_SIZE = 100\n",
    "MAX_WORDS = 10000\n",
    "NUM_CLASSES = 20\n",
    "NUM_EPOCHS = 30\n",
    "OUTPUT_SIZE = 100\n",
    "TEST_SIZE = 0.2\n",
    "VALIDATION_SPLIT = 0.1"
   ]
  },
  {
   "cell_type": "code",
   "execution_count": 98,
   "metadata": {
    "tags": []
   },
   "outputs": [],
   "source": [
    "# Load datasets\n",
    "newsgroups = fetch_20newsgroups(subset='all', remove=('headers', 'footers'))\n",
    "texts = newsgroups.data\n",
    "labels = newsgroups.target"
   ]
  },
  {
   "cell_type": "code",
   "execution_count": 99,
   "metadata": {
    "tags": []
   },
   "outputs": [],
   "source": [
    "# Preprocess texts\n",
    "preprocessed_texts = [preprocess(text) for text in texts]\n",
    "\n",
    "# Instantiate tokenizer\n",
    "# tokenizer = Tokenizer(num_words=MAX_WORDS)\n",
    "tokenizer = Tokenizer()\n",
    "\n",
    "# Tokenize words from samples\n",
    "tokenizer.fit_on_texts(preprocessed_texts)\n",
    "num_words = len(tokenizer.word_index) + 1\n",
    "\n",
    "# Convert to vetorized sequences \n",
    "sequences = tokenizer.texts_to_sequences(preprocessed_texts)\n",
    "\n",
    "# Pad sequences to all be same size\n",
    "# padded_sequences = pad_sequences(sequences)\n",
    "padded_sequences = pad_sequences(sequences, maxlen=ENCODED_VECTOR_SIZE)\n",
    "\n",
    "# Split the data into training and test sets\n",
    "x_train, x_test, y_train, y_test = train_test_split(padded_sequences, labels, test_size=TEST_SIZE, shuffle=True)"
   ]
  },
  {
   "cell_type": "code",
   "execution_count": 100,
   "metadata": {
    "tags": []
   },
   "outputs": [],
   "source": [
    "# Load in embeddings\n",
    "embeddings = api.load(\"word2vec-google-news-300\")\n",
    "\n",
    "# Create embedding matrix\n",
    "embedding_matrix = np.zeros((num_words, ENCODED_VECTOR_SIZE))\n",
    "for word, index in tokenizer.word_index.items():\n",
    "    if word in embeddings:\n",
    "        embedding_matrix[index] = embeddings[word]"
   ]
  },
  {
   "cell_type": "code",
   "execution_count": 101,
   "metadata": {
    "tags": []
   },
   "outputs": [
    {
     "name": "stdout",
     "output_type": "stream",
     "text": [
      "Model: \"sequential_14\"\n",
      "_________________________________________________________________\n",
      " Layer (type)                Output Shape              Param #   \n",
      "=================================================================\n",
      " embedding_16 (Embedding)    (None, 300, 300)          44484000  \n",
      "                                                                 \n",
      " dropout_16 (Dropout)        (None, 300, 300)          0         \n",
      "                                                                 \n",
      " conv1d_29 (Conv1D)          (None, 298, 128)          115328    \n",
      "                                                                 \n",
      " max_pooling1d_15 (MaxPoolin  (None, 99, 128)          0         \n",
      " g1D)                                                            \n",
      "                                                                 \n",
      " conv1d_30 (Conv1D)          (None, 97, 128)           49280     \n",
      "                                                                 \n",
      " max_pooling1d_16 (MaxPoolin  (None, 32, 128)          0         \n",
      " g1D)                                                            \n",
      "                                                                 \n",
      " conv1d_31 (Conv1D)          (None, 30, 128)           49280     \n",
      "                                                                 \n",
      " global_max_pooling1d_14 (Gl  (None, 128)              0         \n",
      " obalMaxPooling1D)                                               \n",
      "                                                                 \n",
      " dropout_17 (Dropout)        (None, 128)               0         \n",
      "                                                                 \n",
      " dense_24 (Dense)            (None, 20)                2580      \n",
      "                                                                 \n",
      "=================================================================\n",
      "Total params: 44,700,468\n",
      "Trainable params: 216,468\n",
      "Non-trainable params: 44,484,000\n",
      "_________________________________________________________________\n",
      "None\n"
     ]
    }
   ],
   "source": [
    "# Define CNN model\n",
    "model = Sequential([\n",
    "    Embedding(input_dim=num_words, output_dim=ENCODED_VECTOR_SIZE, weights=[embedding_matrix], input_length=ENCODED_VECTOR_SIZE, trainable=False),\n",
    "    Dropout(0.5),\n",
    "    Conv1D(BATCH_SIZE, 3, activation=\"relu\"),\n",
    "    MaxPooling1D(3),\n",
    "    Conv1D(BATCH_SIZE, 3, activation=\"relu\"),\n",
    "    MaxPooling1D(3),\n",
    "    Conv1D(BATCH_SIZE, 3, activation=\"relu\"),\n",
    "    GlobalMaxPooling1D(),\n",
    "    Dropout(0.5),\n",
    "    Dense(NUM_CLASSES, activation='softmax')\n",
    "])\n",
    "\n",
    "# Compile model\n",
    "initial_lr = 0.001\n",
    "lr_scheduler = tf.keras.optimizers.schedules.ExponentialDecay(initial_learning_rate=initial_lr, decay_steps=10000, decay_rate=0.95)\n",
    "optimizer = tf.keras.optimizers.Adam(learning_rate=lr_scheduler)\n",
    "model.compile(optimizer=optimizer, loss='sparse_categorical_crossentropy', metrics=['accuracy'])\n",
    "print(model.summary())"
   ]
  },
  {
   "cell_type": "code",
   "execution_count": 102,
   "metadata": {
    "tags": []
   },
   "outputs": [
    {
     "name": "stdout",
     "output_type": "stream",
     "text": [
      "Epoch 1/30\n",
      "106/106 [==============================] - 15s 132ms/step - loss: 2.8486 - accuracy: 0.1116 - val_loss: 2.2688 - val_accuracy: 0.2818\n",
      "Epoch 2/30\n",
      "106/106 [==============================] - 13s 125ms/step - loss: 2.0986 - accuracy: 0.2832 - val_loss: 1.5988 - val_accuracy: 0.4609\n",
      "Epoch 3/30\n",
      "106/106 [==============================] - 13s 125ms/step - loss: 1.6622 - accuracy: 0.4230 - val_loss: 1.2792 - val_accuracy: 0.5743\n",
      "Epoch 4/30\n",
      "106/106 [==============================] - 13s 126ms/step - loss: 1.4413 - accuracy: 0.5004 - val_loss: 1.1641 - val_accuracy: 0.6194\n",
      "Epoch 5/30\n",
      "106/106 [==============================] - 13s 126ms/step - loss: 1.3166 - accuracy: 0.5495 - val_loss: 1.0480 - val_accuracy: 0.6751\n",
      "Epoch 6/30\n",
      "106/106 [==============================] - 13s 126ms/step - loss: 1.2278 - accuracy: 0.5881 - val_loss: 1.0119 - val_accuracy: 0.6830\n",
      "Epoch 7/30\n",
      "106/106 [==============================] - 13s 126ms/step - loss: 1.1554 - accuracy: 0.6215 - val_loss: 0.9765 - val_accuracy: 0.6883\n",
      "Epoch 8/30\n",
      "106/106 [==============================] - 13s 126ms/step - loss: 1.1027 - accuracy: 0.6381 - val_loss: 0.9135 - val_accuracy: 0.7142\n",
      "Epoch 9/30\n",
      "106/106 [==============================] - 13s 125ms/step - loss: 1.0409 - accuracy: 0.6597 - val_loss: 0.9007 - val_accuracy: 0.7122\n",
      "Epoch 10/30\n",
      "106/106 [==============================] - 13s 126ms/step - loss: 0.9964 - accuracy: 0.6723 - val_loss: 0.8548 - val_accuracy: 0.7294\n",
      "Epoch 11/30\n",
      "106/106 [==============================] - 13s 127ms/step - loss: 0.9642 - accuracy: 0.6826 - val_loss: 0.8257 - val_accuracy: 0.7434\n",
      "Epoch 12/30\n",
      "106/106 [==============================] - 13s 126ms/step - loss: 0.9401 - accuracy: 0.6925 - val_loss: 0.8400 - val_accuracy: 0.7328\n",
      "Epoch 13/30\n",
      "106/106 [==============================] - 13s 126ms/step - loss: 0.8898 - accuracy: 0.7096 - val_loss: 0.8072 - val_accuracy: 0.7394\n",
      "Epoch 14/30\n",
      "106/106 [==============================] - 13s 125ms/step - loss: 0.8767 - accuracy: 0.7135 - val_loss: 0.7802 - val_accuracy: 0.7527\n",
      "Epoch 15/30\n",
      "106/106 [==============================] - 13s 126ms/step - loss: 0.8582 - accuracy: 0.7239 - val_loss: 0.8015 - val_accuracy: 0.7381\n",
      "Epoch 16/30\n",
      "106/106 [==============================] - 13s 126ms/step - loss: 0.8184 - accuracy: 0.7308 - val_loss: 0.7704 - val_accuracy: 0.7573\n",
      "Epoch 17/30\n",
      "106/106 [==============================] - 14s 128ms/step - loss: 0.8007 - accuracy: 0.7412 - val_loss: 0.7664 - val_accuracy: 0.7533\n",
      "Epoch 18/30\n",
      "106/106 [==============================] - 14s 128ms/step - loss: 0.7855 - accuracy: 0.7397 - val_loss: 0.7412 - val_accuracy: 0.7533\n",
      "Epoch 19/30\n",
      "106/106 [==============================] - 13s 126ms/step - loss: 0.7605 - accuracy: 0.7529 - val_loss: 0.7459 - val_accuracy: 0.7553\n",
      "Epoch 20/30\n",
      "106/106 [==============================] - 13s 125ms/step - loss: 0.7307 - accuracy: 0.7615 - val_loss: 0.7403 - val_accuracy: 0.7639\n",
      "Epoch 21/30\n",
      "106/106 [==============================] - 14s 129ms/step - loss: 0.7168 - accuracy: 0.7653 - val_loss: 0.7487 - val_accuracy: 0.7646\n",
      "Epoch 22/30\n",
      "106/106 [==============================] - 14s 131ms/step - loss: 0.6960 - accuracy: 0.7714 - val_loss: 0.7343 - val_accuracy: 0.7672\n",
      "Epoch 23/30\n",
      "106/106 [==============================] - 14s 128ms/step - loss: 0.6883 - accuracy: 0.7790 - val_loss: 0.7395 - val_accuracy: 0.7639\n",
      "Epoch 24/30\n",
      "106/106 [==============================] - 14s 129ms/step - loss: 0.6688 - accuracy: 0.7817 - val_loss: 0.7377 - val_accuracy: 0.7580\n",
      "Epoch 25/30\n",
      "106/106 [==============================] - 14s 128ms/step - loss: 0.6598 - accuracy: 0.7848 - val_loss: 0.7338 - val_accuracy: 0.7732\n",
      "Epoch 26/30\n",
      "106/106 [==============================] - 13s 127ms/step - loss: 0.6339 - accuracy: 0.7976 - val_loss: 0.7163 - val_accuracy: 0.7752\n",
      "Epoch 27/30\n",
      "106/106 [==============================] - 14s 128ms/step - loss: 0.6343 - accuracy: 0.7949 - val_loss: 0.7274 - val_accuracy: 0.7805\n",
      "Epoch 28/30\n",
      "106/106 [==============================] - 14s 128ms/step - loss: 0.6113 - accuracy: 0.7972 - val_loss: 0.7075 - val_accuracy: 0.7805\n",
      "Epoch 29/30\n",
      "106/106 [==============================] - 14s 132ms/step - loss: 0.6040 - accuracy: 0.8016 - val_loss: 0.7201 - val_accuracy: 0.7812\n",
      "Epoch 30/30\n",
      "106/106 [==============================] - 13s 126ms/step - loss: 0.5921 - accuracy: 0.8064 - val_loss: 0.7200 - val_accuracy: 0.7739\n"
     ]
    }
   ],
   "source": [
    "# Train the model\n",
    "model_history = model.fit(x_train, y_train, batch_size=BATCH_SIZE, epochs=NUM_EPOCHS, validation_split=VALIDATION_SPLIT)"
   ]
  },
  {
   "cell_type": "code",
   "execution_count": 103,
   "metadata": {
    "tags": []
   },
   "outputs": [
    {
     "data": {
      "image/png": "[encoded data removed]",
      "text/plain": [
       "<Figure size 640x480 with 1 Axes>"
      ]
     },
     "metadata": {},
     "output_type": "display_data"
    }
   ],
   "source": [
    "# Plot loss curves\n",
    "plt.plot(model_history.history['loss'], label='Training Loss')\n",
    "plt.plot(model_history.history['val_loss'], label='Validation Loss')\n",
    "plt.title('Training and Validation Loss')\n",
    "plt.xlabel('Epoch')\n",
    "plt.ylabel('Loss')\n",
    "plt.legend()\n",
    "plt.show()"
   ]
  },
  {
   "cell_type": "code",
   "execution_count": 105,
   "metadata": {
    "tags": []
   },
   "outputs": [
    {
     "name": "stdout",
     "output_type": "stream",
     "text": [
      "118/118 [==============================] - 1s 10ms/step\n",
      "Accuracy: 0.7782493368700265\n"
     ]
    }
   ],
   "source": [
    "# Get predictions and calculate accuracy\n",
    "predictions = np.argmax(model.predict(x_test), axis=1)\n",
    "accuracy = accuracy_score(y_test, predictions)\n",
    "print(f\"Accuracy: {accuracy}\")"
   ]
  },
  {
   "cell_type": "code",
   "execution_count": null,
   "metadata": {},
   "outputs": [],
   "source": []
  }
 ],
 "metadata": {
  "kernelspec": {
   "display_name": "Python 3 (ipykernel)",
   "language": "python",
   "name": "python3"
  },
  "language_info": {
   "codemirror_mode": {
    "name": "ipython",
    "version": 3
   },
   "file_extension": ".py",
   "mimetype": "text/x-python",
   "name": "python",
   "nbconvert_exporter": "python",
   "pygments_lexer": "ipython3",
   "version": "3.11.2"
  }
 },
 "nbformat": 4,
 "nbformat_minor": 4
}
