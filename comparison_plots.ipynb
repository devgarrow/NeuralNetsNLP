{
 "cells": [
  {
   "cell_type": "code",
   "execution_count": null,
   "id": "2fda3257-be94-402a-84b6-bb2190115b61",
   "metadata": {},
   "outputs": [],
   "source": [
    "import matplotlib.pyplot as plt\n",
    "import numpy as np"
   ]
  },
  {
   "cell_type": "code",
   "execution_count": null,
   "id": "56a10577-71f0-4d66-8957-52e8c5c561b7",
   "metadata": {},
   "outputs": [],
   "source": [
    "def getTotalDuration(cnnDuration, lstmDuration, comboDuration):\n",
    "    cnnAloneTime = []\n",
    "    lstmAloneTime = []\n",
    "    cnnAndLstmTime = []\n",
    "    for i in range(0, len(cnnDuration)):\n",
    "        cnnAloneTime.append(np.sum(cnnDuration[:i]))\n",
    "        lstmAloneTime.append(np.sum(lstmDuration[:i]))\n",
    "        cnnAndLstmTime.append(np.sum(comboDuration[:i]))\n",
    "    return cnnAloneTime, lstmAloneTime, cnnAndLstmTime\n",
    "    \n",
    "def plotTrainValAccuracy(embedding, model, acc, valAcc):\n",
    "    # plot accuracy curves\n",
    "    plt.plot(acc, label='Training Accuracy')\n",
    "    plt.plot(valAcc, label='Validation Accuracy')\n",
    "    plt.title(embedding + \" Embedding with \" + model + \" Classification Model\")\n",
    "    plt.xlabel('Epoch')\n",
    "    plt.ylabel('Accuracy')\n",
    "    plt.legend()\n",
    "    plt.show()\n",
    "\n",
    "def plotModelComparison(embedding, cnnAcc, lstmAcc, comboAcc, cnnDuration, lstmDuration, comboDuration):\n",
    "    # plot model comparison curves for specific embedding type\n",
    "    plt.plot(cnnDuration, cnnAcc, label='CNN Accuracy')\n",
    "    plt.plot(lstmDuration, lstmAcc, label='LSTM Accuracy')\n",
    "    plt.plot(comboDuration, comboAcc, label='CNN & LSTM Accuracy')\n",
    "    plt.title(embedding + \" Embedding with Various Classification Models\")\n",
    "    plt.xlabel('Duration (s)')\n",
    "    plt.ylabel('Accuracy')\n",
    "    plt.legend()\n",
    "    plt.show()\n",
    "\n",
    "def plotEmbeddingComparison(model, gloveAcc, word2vecAcc, gloveDuration, word2vecDuration):\n",
    "    # plot embedding comparison curves for specific classification model \n",
    "    plt.plot(gloveDuration, gloveAcc, label='GloVe Accuracy')\n",
    "    plt.plot(word2vecDuration, word2vecAcc, label='Word2Vec Accuracy')\n",
    "    plt.title(\"Various Embeddings with \" + model + \" Classification Models\")\n",
    "    plt.xlabel('Duration (s)')\n",
    "    plt.ylabel('Accuracy')\n",
    "    plt.legend()\n",
    "    plt.show()\n",
    "\n",
    "def plotTrainValLoss(embedding, model, loss, valLoss):\n",
    "    # plot accuracy curves\n",
    "    plt.plot(loss, label='Training Loss')\n",
    "    plt.plot(valLoss, label='Validation Loss')\n",
    "    plt.title(embedding + \" Embedding with \" + model + \" Classification Model\")\n",
    "    plt.xlabel('Epoch')\n",
    "    plt.ylabel('Loss')\n",
    "    plt.legend()\n",
    "    plt.show()"
   ]
  }
 ],
 "metadata": {
  "kernelspec": {
   "display_name": "Python 3 (ipykernel)",
   "language": "python",
   "name": "python3"
  },
  "language_info": {
   "codemirror_mode": {
    "name": "ipython",
    "version": 3
   },
   "file_extension": ".py",
   "mimetype": "text/x-python",
   "name": "python",
   "nbconvert_exporter": "python",
   "pygments_lexer": "ipython3",
   "version": "3.11.5"
  }
 },
 "nbformat": 4,
 "nbformat_minor": 5
}
