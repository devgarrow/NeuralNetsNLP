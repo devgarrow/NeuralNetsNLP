{
 "cells": [
  {
   "cell_type": "markdown",
   "metadata": {
    "id": "OJ69pAC5fHeK"
   },
   "source": [
    "# **Setup** (run once)"
   ]
  },
  {
   "cell_type": "code",
   "execution_count": 8,
   "metadata": {
    "colab": {
     "base_uri": "https://localhost:8080/"
    },
    "id": "FL_PeLcEb7B-",
    "outputId": "54175b27-d747-4740-fdd9-1777ce608b59"
   },
   "outputs": [
    {
     "name": "stdout",
     "output_type": "stream",
     "text": [
      "--2023-11-08 16:58:04--  http://nlp.stanford.edu/data/glove.6B.zip\n",
      "Resolving nlp.stanford.edu (nlp.stanford.edu)... 171.64.67.140\n",
      "Connecting to nlp.stanford.edu (nlp.stanford.edu)|171.64.67.140|:80... connected.\n",
      "HTTP request sent, awaiting response... 302 Found\n",
      "Location: https://nlp.stanford.edu/data/glove.6B.zip [following]\n",
      "--2023-11-08 16:58:05--  https://nlp.stanford.edu/data/glove.6B.zip\n",
      "Connecting to nlp.stanford.edu (nlp.stanford.edu)|171.64.67.140|:443... connected.\n",
      "HTTP request sent, awaiting response... 301 Moved Permanently\n",
      "Location: https://downloads.cs.stanford.edu/nlp/data/glove.6B.zip [following]\n",
      "--2023-11-08 16:58:07--  https://downloads.cs.stanford.edu/nlp/data/glove.6B.zip\n",
      "Resolving downloads.cs.stanford.edu (downloads.cs.stanford.edu)... 171.64.64.22\n",
      "Connecting to downloads.cs.stanford.edu (downloads.cs.stanford.edu)|171.64.64.22|:443... connected.\n",
      "HTTP request sent, awaiting response... 200 OK\n",
      "Length: 862182613 (822M) [application/zip]\n",
      "Saving to: ‘glove.6B.zip.1’\n",
      "\n",
      "glove.6B.zip.1      100%[===================>] 822.24M  2.87MB/s    in 2m 49s  \n",
      "\n",
      "2023-11-08 17:00:58 (4.87 MB/s) - ‘glove.6B.zip.1’ saved [862182613/862182613]\n",
      "\n"
     ]
    }
   ],
   "source": [
    "!wget http://nlp.stanford.edu/data/glove.6B.zip"
   ]
  },
  {
   "cell_type": "code",
   "execution_count": 9,
   "metadata": {
    "id": "wy4Kl0ZRcnPS"
   },
   "outputs": [],
   "source": [
    "!unzip -q glove.6B.zip"
   ]
  },
  {
   "cell_type": "markdown",
   "metadata": {
    "id": "hQuCxqSpfR_a"
   },
   "source": [
    "# **Imports**"
   ]
  },
  {
   "cell_type": "code",
   "execution_count": 1,
   "metadata": {
    "id": "FXoWhEcIcx6r"
   },
   "outputs": [],
   "source": [
    "import numpy as np\n",
    "import tensorflow as tf\n",
    "from sklearn.datasets import fetch_20newsgroups\n",
    "from tensorflow import keras\n",
    "from keras.layers import Embedding\n",
    "from keras.layers import LSTM\n",
    "from keras.models import Sequential\n",
    "from keras.layers import Dense\n",
    "from keras.layers import Conv1D\n",
    "from keras.layers import MaxPooling1D\n",
    "from keras.layers import GlobalMaxPooling1D\n",
    "from tensorflow.keras.preprocessing.text import Tokenizer\n",
    "from tensorflow.keras.preprocessing.sequence import pad_sequences\n",
    "from sklearn.model_selection import train_test_split\n",
    "import matplotlib.pyplot as plt\n",
    "from sklearn.metrics import accuracy_score"
   ]
  },
  {
   "cell_type": "markdown",
   "metadata": {
    "id": "LD3ZJ1fleZfm"
   },
   "source": [
    "## **1. Load Data**"
   ]
  },
  {
   "cell_type": "code",
   "execution_count": 2,
   "metadata": {
    "colab": {
     "base_uri": "https://localhost:8080/"
    },
    "id": "_g3Tp5XH5UpL",
    "outputId": "15f81d7a-c89a-4978-da5e-bf8f3ea655e9"
   },
   "outputs": [],
   "source": [
    "# Retrieve 20NewsGroup dataset\n",
    "dataset = fetch_20newsgroups(subset='all', remove=('headers', 'footers'))\n",
    "samples = dataset.data\n",
    "labels = dataset.target"
   ]
  },
  {
   "cell_type": "markdown",
   "metadata": {
    "id": "woOzSWD1eg8S"
   },
   "source": [
    "## **2. Data Pre-Processing**"
   ]
  },
  {
   "cell_type": "code",
   "execution_count": 3,
   "metadata": {
    "id": "fprQ80zwLGAF"
   },
   "outputs": [],
   "source": [
    "# Model Constants\n",
    "LSTM_DIMENSION_SIZE = 100\n",
    "ENCODED_VECTOR_SIZE = 300 # 50, 100, 200, 300\n",
    "NUM_CLASSES = 20"
   ]
  },
  {
   "cell_type": "markdown",
   "metadata": {
    "id": "iMqCcvWueuoD"
   },
   "source": [
    "## **3. Data Vectorization**"
   ]
  },
  {
   "cell_type": "code",
   "execution_count": 4,
   "metadata": {
    "id": "tVuCAZYnP_Yz"
   },
   "outputs": [],
   "source": [
    "# Tokenize words from samples\n",
    "tokenizer = Tokenizer()\n",
    "tokenizer.fit_on_texts(samples)\n",
    "num_words = len(tokenizer.word_index) + 1\n",
    "\n",
    "# Convert to vetorized sequences and pad sequences to all be same size\n",
    "sequences = tokenizer.texts_to_sequences(samples)\n",
    "padded_sequences = pad_sequences(sequences, maxlen=ENCODED_VECTOR_SIZE)\n",
    "\n",
    "x_train, x_test, y_train, y_test = train_test_split(padded_sequences, labels, test_size=0.2, shuffle=True)"
   ]
  },
  {
   "cell_type": "markdown",
   "metadata": {
    "id": "oUZaIgiCe0ud"
   },
   "source": [
    "## **4. Pre-Trained Embeddings**"
   ]
  },
  {
   "cell_type": "code",
   "execution_count": 5,
   "metadata": {
    "colab": {
     "base_uri": "https://localhost:8080/"
    },
    "id": "cwwi-9f1Sh0X",
    "outputId": "0bf3d17f-29c3-4490-a19d-c974af5ff44b"
   },
   "outputs": [
    {
     "name": "stdout",
     "output_type": "stream",
     "text": [
      "Found 400000 word vectors.\n"
     ]
    }
   ],
   "source": [
    "#Load pre-trained word embeddings\n",
    "path_to_glove_file =  \"glove.6B.300d.txt\"\n",
    "\n",
    "embeddings_index = {}\n",
    "with open(path_to_glove_file) as f:\n",
    "    for line in f:\n",
    "        word, coefs = line.split(maxsplit=1)\n",
    "        coefs = np.fromstring(coefs, \"f\", sep=\" \")\n",
    "        embeddings_index[word] = coefs\n",
    "\n",
    "print(\"Found %s word vectors.\" % len(embeddings_index))"
   ]
  },
  {
   "cell_type": "code",
   "execution_count": 6,
   "metadata": {
    "colab": {
     "base_uri": "https://localhost:8080/"
    },
    "id": "2GR3huZWe67K",
    "outputId": "81990ab5-de81-4d3e-8afb-239f62406510"
   },
   "outputs": [
    {
     "name": "stdout",
     "output_type": "stream",
     "text": [
      "Converted 63417 words (94759 misses)\n"
     ]
    }
   ],
   "source": [
    "# Embedding Matrix\n",
    "hits = 0\n",
    "misses = 0\n",
    "\n",
    "# Prepare embedding matrix\n",
    "embedding_matrix = np.zeros((num_words, ENCODED_VECTOR_SIZE))\n",
    "for word, i in tokenizer.word_index.items():\n",
    "    embedding_vector = embeddings_index.get(word)\n",
    "    if embedding_vector is not None:\n",
    "        # Words not found in pre-trained embeddings will be all-zeros.\n",
    "        embedding_matrix[i] = embedding_vector\n",
    "        hits += 1\n",
    "    else:\n",
    "        misses += 1\n",
    "print(\"Converted %d words (%d misses)\" % (hits, misses))"
   ]
  },
  {
   "cell_type": "markdown",
   "metadata": {
    "id": "9Q_AM727e8cI"
   },
   "source": [
    "# **5. Model Definition**"
   ]
  },
  {
   "cell_type": "code",
   "execution_count": 12,
   "metadata": {
    "colab": {
     "base_uri": "https://localhost:8080/"
    },
    "id": "UJItqLsZ565O",
    "outputId": "5571410b-bdf4-4b24-9e24-7e08ed8a0070"
   },
   "outputs": [
    {
     "name": "stdout",
     "output_type": "stream",
     "text": [
      "Model: \"sequential_1\"\n",
      "_________________________________________________________________\n",
      " Layer (type)                Output Shape              Param #   \n",
      "=================================================================\n",
      " embedding_1 (Embedding)     (None, None, 300)         47453100  \n",
      "                                                                 \n",
      " conv1d_2 (Conv1D)           (None, None, 128)         192128    \n",
      "                                                                 \n",
      " max_pooling1d_1 (MaxPoolin  (None, None, 128)         0         \n",
      " g1D)                                                            \n",
      "                                                                 \n",
      " conv1d_3 (Conv1D)           (None, None, 128)         82048     \n",
      "                                                                 \n",
      " lstm_1 (LSTM)               (None, 100)               91600     \n",
      "                                                                 \n",
      " dense_1 (Dense)             (None, 20)                2020      \n",
      "                                                                 \n",
      "=================================================================\n",
      "Total params: 47820896 (182.42 MB)\n",
      "Trainable params: 367796 (1.40 MB)\n",
      "Non-trainable params: 47453100 (181.02 MB)\n",
      "_________________________________________________________________\n",
      "None\n"
     ]
    }
   ],
   "source": [
    "# LSTM Model\n",
    "model = keras.Sequential()\n",
    "model.add(Embedding(num_words, ENCODED_VECTOR_SIZE, embeddings_initializer=keras.initializers.Constant(embedding_matrix),trainable=False))\n",
    "model.add(Conv1D(128, 5, activation=\"relu\"))\n",
    "model.add(MaxPooling1D(3))\n",
    "model.add(Conv1D(128, 5, activation=\"relu\"))\n",
    "model.add(LSTM(LSTM_DIMENSION_SIZE)) # Parameter to change\n",
    "model.add(Dense(NUM_CLASSES, activation='softmax'))\n",
    "model.compile(loss=\"sparse_categorical_crossentropy\", optimizer=\"adam\", metrics=[\"accuracy\", \"duration\"])\n",
    "print(model.summary())\n"
   ]
  },
  {
   "cell_type": "markdown",
   "metadata": {
    "id": "qu1nZ_MsfBox"
   },
   "source": [
    "## **6. Model Training + Testing**"
   ]
  },
  {
   "cell_type": "code",
   "execution_count": 8,
   "metadata": {
    "id": "Rhgv8bm4ku3X"
   },
   "outputs": [
    {
     "name": "stdout",
     "output_type": "stream",
     "text": [
      "Epoch 1/20\n",
      "106/106 [==============================] - 58s 540ms/step - loss: 2.1352 - accuracy: 0.3012 - val_loss: 1.6643 - val_accuracy: 0.4410\n",
      "Epoch 2/20\n",
      "106/106 [==============================] - 66s 625ms/step - loss: 1.3680 - accuracy: 0.5416 - val_loss: 1.2235 - val_accuracy: 0.5895\n",
      "Epoch 3/20\n",
      "106/106 [==============================] - 67s 629ms/step - loss: 1.0865 - accuracy: 0.6376 - val_loss: 1.1262 - val_accuracy: 0.6300\n",
      "Epoch 4/20\n",
      "106/106 [==============================] - 53s 504ms/step - loss: 0.9253 - accuracy: 0.6952 - val_loss: 1.0324 - val_accuracy: 0.6664\n",
      "Epoch 5/20\n",
      "106/106 [==============================] - 80s 757ms/step - loss: 0.7969 - accuracy: 0.7415 - val_loss: 0.9624 - val_accuracy: 0.6923\n",
      "Epoch 6/20\n",
      "106/106 [==============================] - 66s 622ms/step - loss: 0.6792 - accuracy: 0.7825 - val_loss: 0.9968 - val_accuracy: 0.6863\n",
      "Epoch 7/20\n",
      "106/106 [==============================] - 68s 635ms/step - loss: 0.6050 - accuracy: 0.8072 - val_loss: 0.8995 - val_accuracy: 0.7208\n",
      "Epoch 8/20\n",
      "106/106 [==============================] - 60s 572ms/step - loss: 0.4931 - accuracy: 0.8439 - val_loss: 0.8988 - val_accuracy: 0.7195\n",
      "Epoch 9/20\n",
      "106/106 [==============================] - 77s 722ms/step - loss: 0.4383 - accuracy: 0.8651 - val_loss: 0.8981 - val_accuracy: 0.7281\n",
      "Epoch 10/20\n",
      "106/106 [==============================] - 62s 583ms/step - loss: 0.3704 - accuracy: 0.8840 - val_loss: 0.8687 - val_accuracy: 0.7473\n",
      "Epoch 11/20\n",
      "106/106 [==============================] - 58s 545ms/step - loss: 0.3010 - accuracy: 0.9074 - val_loss: 0.9519 - val_accuracy: 0.7334\n",
      "Epoch 12/20\n",
      "106/106 [==============================] - 61s 579ms/step - loss: 0.2784 - accuracy: 0.9168 - val_loss: 0.9944 - val_accuracy: 0.7228\n",
      "Epoch 13/20\n",
      "106/106 [==============================] - 58s 549ms/step - loss: 0.2393 - accuracy: 0.9281 - val_loss: 0.9581 - val_accuracy: 0.7434\n",
      "Epoch 14/20\n",
      "106/106 [==============================] - 55s 515ms/step - loss: 0.2280 - accuracy: 0.9317 - val_loss: 0.8907 - val_accuracy: 0.7573\n",
      "Epoch 15/20\n",
      "106/106 [==============================] - 53s 501ms/step - loss: 0.1461 - accuracy: 0.9601 - val_loss: 0.9327 - val_accuracy: 0.7553\n",
      "Epoch 16/20\n",
      "106/106 [==============================] - 57s 535ms/step - loss: 0.1324 - accuracy: 0.9631 - val_loss: 0.9912 - val_accuracy: 0.7487\n",
      "Epoch 17/20\n",
      "106/106 [==============================] - 55s 516ms/step - loss: 0.1511 - accuracy: 0.9557 - val_loss: 1.0259 - val_accuracy: 0.7454\n",
      "Epoch 18/20\n",
      "106/106 [==============================] - 52s 495ms/step - loss: 0.1066 - accuracy: 0.9716 - val_loss: 1.0264 - val_accuracy: 0.7639\n",
      "Epoch 19/20\n",
      "106/106 [==============================] - 53s 501ms/step - loss: 0.0844 - accuracy: 0.9780 - val_loss: 0.9970 - val_accuracy: 0.7659\n",
      "Epoch 20/20\n",
      "106/106 [==============================] - 53s 503ms/step - loss: 0.0666 - accuracy: 0.9828 - val_loss: 1.0516 - val_accuracy: 0.7473\n"
     ]
    }
   ],
   "source": [
    "model_history = model.fit(x_train, y_train, batch_size=128, epochs=20, validation_split=0.1)"
   ]
  },
  {
   "cell_type": "code",
   "execution_count": 9,
   "metadata": {},
   "outputs": [
    {
     "data": {
      "image/png": "[encoded data removed]",
      "text/plain": [
       "<Figure size 640x480 with 1 Axes>"
      ]
     },
     "metadata": {},
     "output_type": "display_data"
    }
   ],
   "source": [
    "# plot loss curves\n",
    "plt.plot(model_history.history['loss'], label='Training Loss')\n",
    "plt.plot(model_history.history['val_loss'], label='Validation Loss')\n",
    "plt.title('Training and Validation Loss')\n",
    "plt.xlabel('Epoch')\n",
    "plt.ylabel('Loss')\n",
    "plt.legend()\n",
    "plt.show()"
   ]
  },
  {
   "cell_type": "code",
   "execution_count": 10,
   "metadata": {},
   "outputs": [
    {
     "data": {
      "image/png": "[encoded data removed]",
      "text/plain": [
       "<Figure size 640x480 with 1 Axes>"
      ]
     },
     "metadata": {},
     "output_type": "display_data"
    }
   ],
   "source": [
    "# plot accuracy curves\n",
    "plt.plot(model_history.history['accuracy'], label='Training Accuracy')\n",
    "plt.plot(model_history.history['val_accuracy'], label='Validation Accuracy')\n",
    "plt.title('Training and Validation Accuracy')\n",
    "plt.xlabel('Epoch')\n",
    "plt.ylabel('Accuracy')\n",
    "plt.legend()\n",
    "plt.show()"
   ]
  },
  {
   "cell_type": "markdown",
   "metadata": {},
   "source": [
    "## **7. Model Testing**"
   ]
  },
  {
   "cell_type": "code",
   "execution_count": 11,
   "metadata": {},
   "outputs": [
    {
     "name": "stdout",
     "output_type": "stream",
     "text": [
      "118/118 [==============================] - 5s 42ms/step\n",
      "Accuracy: 0.7612732095490716\n"
     ]
    }
   ],
   "source": [
    "# get predictions and calculate accuracy\n",
    "predictions = np.argmax(model.predict(x_test), axis=1)\n",
    "accuracy = accuracy_score(y_test, predictions)\n",
    "print(f\"Accuracy: {accuracy}\")"
   ]
  },
  {
   "cell_type": "code",
   "execution_count": null,
   "metadata": {},
   "outputs": [],
   "source": []
  }
 ],
 "metadata": {
  "accelerator": "GPU",
  "colab": {
   "gpuType": "T4",
   "provenance": []
  },
  "kernelspec": {
   "display_name": "Python 3 (ipykernel)",
   "language": "python",
   "name": "python3"
  },
  "language_info": {
   "codemirror_mode": {
    "name": "ipython",
    "version": 3
   },
   "file_extension": ".py",
   "mimetype": "text/x-python",
   "name": "python",
   "nbconvert_exporter": "python",
   "pygments_lexer": "ipython3",
   "version": "3.11.5"
  }
 },
 "nbformat": 4,
 "nbformat_minor": 4
}
