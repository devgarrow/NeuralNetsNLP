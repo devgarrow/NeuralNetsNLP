{
 "cells": [
  {
   "cell_type": "code",
   "execution_count": null,
   "metadata": {
    "id": "wy4Kl0ZRcnPS"
   },
   "outputs": [],
   "source": [
    "# Setup (run once)\n",
    "!wget http://nlp.stanford.edu/data/glove.6B.zip\n",
    "!unzip -q glove.6B.zip"
   ]
  },
  {
   "cell_type": "code",
   "execution_count": 1,
   "metadata": {
    "id": "FXoWhEcIcx6r",
    "tags": []
   },
   "outputs": [],
   "source": [
    "# Import libraries\n",
    "import gensim.downloader as api\n",
    "import matplotlib.pyplot as plt\n",
    "import numpy as np\n",
    "from sklearn.datasets import fetch_20newsgroups\n",
    "from sklearn.metrics import accuracy_score\n",
    "from sklearn.model_selection import train_test_split\n",
    "from tensorflow import keras\n",
    "from tensorflow.keras.layers import Dense, Embedding, LSTM\n",
    "from tensorflow.keras.models import Sequential\n",
    "from tensorflow.keras.preprocessing.sequence import pad_sequences\n",
    "from tensorflow.keras.preprocessing.text import Tokenizer"
   ]
  },
  {
   "cell_type": "code",
   "execution_count": 2,
   "metadata": {
    "tags": []
   },
   "outputs": [],
   "source": [
    "# Import preprocessing method\n",
    "from preprocessing import preprocess"
   ]
  },
  {
   "cell_type": "code",
   "execution_count": 3,
   "metadata": {
    "tags": []
   },
   "outputs": [],
   "source": [
    "# Define constants\n",
    "BATCH_SIZE = 128\n",
    "ENCODED_VECTOR_SIZE = 300\n",
    "LSTM_SIZE = 100\n",
    "MAX_WORDS = 10000\n",
    "NUM_CLASSES = 20\n",
    "NUM_EPOCHS = 10\n",
    "OUTPUT_SIZE = 100\n",
    "TEST_SIZE = 0.2\n",
    "VALIDATION_SPLIT = 0.1"
   ]
  },
  {
   "cell_type": "code",
   "execution_count": 4,
   "metadata": {
    "tags": []
   },
   "outputs": [],
   "source": [
    "# Load datasets\n",
    "newsgroups = fetch_20newsgroups(subset='all', remove=('headers', 'footers'))\n",
    "texts = newsgroups.data\n",
    "labels = newsgroups.target"
   ]
  },
  {
   "cell_type": "code",
   "execution_count": 5,
   "metadata": {
    "tags": []
   },
   "outputs": [],
   "source": [
    "# Preprocess texts\n",
    "preprocessed_texts = [preprocess(text) for text in texts]\n",
    "\n",
    "# Instantiate tokenizer\n",
    "# tokenizer = Tokenizer(num_words=MAX_WORDS)\n",
    "tokenizer = Tokenizer()\n",
    "\n",
    "# Tokenize words from samples\n",
    "tokenizer.fit_on_texts(preprocessed_texts)\n",
    "num_words = len(tokenizer.word_index) + 1\n",
    "\n",
    "# Convert to vetorized sequences \n",
    "sequences = tokenizer.texts_to_sequences(preprocessed_texts)\n",
    "\n",
    "# Pad sequences to all be same size\n",
    "# padded_sequences = pad_sequences(sequences)\n",
    "padded_sequences = pad_sequences(sequences, maxlen=ENCODED_VECTOR_SIZE)\n",
    "\n",
    "# Split the data into training and test sets\n",
    "x_train, x_test, y_train, y_test = train_test_split(padded_sequences, labels, test_size=TEST_SIZE, shuffle=True)"
   ]
  },
  {
   "cell_type": "code",
   "execution_count": 6,
   "metadata": {
    "colab": {
     "base_uri": "https://localhost:8080/"
    },
    "id": "cwwi-9f1Sh0X",
    "outputId": "0bf3d17f-29c3-4490-a19d-c974af5ff44b",
    "tags": []
   },
   "outputs": [
    {
     "name": "stdout",
     "output_type": "stream",
     "text": [
      "Found 400000 word vectors.\n"
     ]
    }
   ],
   "source": [
    "# Load pre-trained word embeddings\n",
    "path_to_glove_file =  \"glove.6B.300d.txt\"\n",
    "\n",
    "embeddings_index = {}\n",
    "with open(path_to_glove_file) as f:\n",
    "    for line in f:\n",
    "        word, coefs = line.split(maxsplit=1)\n",
    "        coefs = np.fromstring(coefs, \"f\", sep=\" \")\n",
    "        embeddings_index[word] = coefs\n",
    "\n",
    "print(\"Found %s word vectors.\" % len(embeddings_index))"
   ]
  },
  {
   "cell_type": "code",
   "execution_count": 7,
   "metadata": {
    "colab": {
     "base_uri": "https://localhost:8080/"
    },
    "id": "2GR3huZWe67K",
    "outputId": "81990ab5-de81-4d3e-8afb-239f62406510",
    "tags": []
   },
   "outputs": [
    {
     "name": "stdout",
     "output_type": "stream",
     "text": [
      "Converted 63711 words (84568 misses)\n"
     ]
    }
   ],
   "source": [
    "# Embedding Matrix\n",
    "hits = 0\n",
    "misses = 0\n",
    "\n",
    "# Prepare embedding matrix\n",
    "embedding_matrix = np.zeros((num_words, ENCODED_VECTOR_SIZE))\n",
    "for word, i in tokenizer.word_index.items():\n",
    "    embedding_vector = embeddings_index.get(word)\n",
    "    if embedding_vector is not None:\n",
    "        # Words not found in pre-trained embeddings will be all-zeros.\n",
    "        embedding_matrix[i] = embedding_vector\n",
    "        hits += 1\n",
    "    else:\n",
    "        misses += 1\n",
    "print(\"Converted %d words (%d misses)\" % (hits, misses))"
   ]
  },
  {
   "cell_type": "code",
   "execution_count": 8,
   "metadata": {
    "colab": {
     "base_uri": "https://localhost:8080/"
    },
    "id": "UJItqLsZ565O",
    "outputId": "5571410b-bdf4-4b24-9e24-7e08ed8a0070",
    "tags": []
   },
   "outputs": [
    {
     "name": "stdout",
     "output_type": "stream",
     "text": [
      "Model: \"sequential\"\n",
      "_________________________________________________________________\n",
      " Layer (type)                Output Shape              Param #   \n",
      "=================================================================\n",
      " embedding (Embedding)       (None, None, 300)         44484000  \n",
      "                                                                 \n",
      " lstm (LSTM)                 (None, 100)               160400    \n",
      "                                                                 \n",
      " dense (Dense)               (None, 128)               12928     \n",
      "                                                                 \n",
      "=================================================================\n",
      "Total params: 44657328 (170.35 MB)\n",
      "Trainable params: 173328 (677.06 KB)\n",
      "Non-trainable params: 44484000 (169.69 MB)\n",
      "_________________________________________________________________\n",
      "None\n"
     ]
    }
   ],
   "source": [
    "# Define LSTM model\n",
    "model = keras.Sequential()\n",
    "model.add(Embedding(num_words, ENCODED_VECTOR_SIZE, embeddings_initializer=keras.initializers.Constant(embedding_matrix),trainable=False))\n",
    "model.add(LSTM(LSTM_SIZE))\n",
    "model.add(Dense(BATCH_SIZE, activation='softmax'))\n",
    "model.compile(loss=\"sparse_categorical_crossentropy\", optimizer=\"adam\", metrics=[\"accuracy\"])\n",
    "print(model.summary())"
   ]
  },
  {
   "cell_type": "code",
   "execution_count": 9,
   "metadata": {
    "id": "Rhgv8bm4ku3X",
    "tags": []
   },
   "outputs": [
    {
     "name": "stdout",
     "output_type": "stream",
     "text": [
      "Epoch 1/10\n",
      "106/106 [==============================] - 83s 778ms/step - loss: 3.1110 - accuracy: 0.1146 - val_loss: 2.6009 - val_accuracy: 0.2155\n",
      "Epoch 2/10\n",
      "106/106 [==============================] - 84s 797ms/step - loss: 2.2700 - accuracy: 0.3241 - val_loss: 1.9792 - val_accuracy: 0.3972\n",
      "Epoch 3/10\n",
      "106/106 [==============================] - 85s 796ms/step - loss: 1.7007 - accuracy: 0.4793 - val_loss: 1.5054 - val_accuracy: 0.5332\n",
      "Epoch 4/10\n",
      "106/106 [==============================] - 82s 772ms/step - loss: 1.3409 - accuracy: 0.5764 - val_loss: 1.3044 - val_accuracy: 0.5942\n",
      "Epoch 5/10\n",
      "106/106 [==============================] - 78s 739ms/step - loss: 1.1590 - accuracy: 0.6294 - val_loss: 1.1785 - val_accuracy: 0.6233\n",
      "Epoch 6/10\n",
      "106/106 [==============================] - 77s 723ms/step - loss: 0.9978 - accuracy: 0.6846 - val_loss: 1.0448 - val_accuracy: 0.6704\n",
      "Epoch 7/10\n",
      "106/106 [==============================] - 48s 448ms/step - loss: 0.8752 - accuracy: 0.7313 - val_loss: 0.9934 - val_accuracy: 0.6923\n",
      "Epoch 8/10\n",
      "106/106 [==============================] - 47s 442ms/step - loss: 0.7953 - accuracy: 0.7567 - val_loss: 0.9416 - val_accuracy: 0.7062\n",
      "Epoch 9/10\n",
      "106/106 [==============================] - 46s 437ms/step - loss: 0.7116 - accuracy: 0.7828 - val_loss: 0.8583 - val_accuracy: 0.7500\n",
      "Epoch 10/10\n",
      "106/106 [==============================] - 47s 445ms/step - loss: 0.6367 - accuracy: 0.8068 - val_loss: 0.8420 - val_accuracy: 0.7473\n"
     ]
    }
   ],
   "source": [
    "# Train the model\n",
    "model_history = model.fit(x_train, y_train, batch_size=BATCH_SIZE, epochs=NUM_EPOCHS, validation_split=VALIDATION_SPLIT)"
   ]
  },
  {
   "cell_type": "code",
   "execution_count": 10,
   "metadata": {
    "tags": []
   },
   "outputs": [
    {
     "data": {
      "image/png": "[encoded data removed]",
      "text/plain": [
       "<Figure size 640x480 with 1 Axes>"
      ]
     },
     "metadata": {},
     "output_type": "display_data"
    }
   ],
   "source": [
    "# Plot accuracy curves\n",
    "plt.plot(model_history.history['accuracy'], label='Training Accuracy')\n",
    "plt.plot(model_history.history['val_accuracy'], label='Validation Accuracy')\n",
    "plt.title('Training and Validation Accuracy')\n",
    "plt.xlabel('Epoch')\n",
    "plt.ylabel('Accuracy')\n",
    "plt.legend()\n",
    "plt.show()"
   ]
  },
  {
   "cell_type": "code",
   "execution_count": 11,
   "metadata": {
    "tags": []
   },
   "outputs": [
    {
     "name": "stdout",
     "output_type": "stream",
     "text": [
      "118/118 [==============================] - 7s 54ms/step\n",
      "Accuracy: 0.7405835543766578\n"
     ]
    }
   ],
   "source": [
    "# Get predictions and calculate accuracy\n",
    "predictions = np.argmax(model.predict(x_test), axis=1)\n",
    "accuracy = accuracy_score(y_test, predictions)\n",
    "print(f\"Accuracy: {accuracy}\")"
   ]
  },
  {
   "cell_type": "code",
   "execution_count": null,
   "metadata": {},
   "outputs": [],
   "source": [
    "# Model comparison\n"
   ]
  }
 ],
 "metadata": {
  "accelerator": "GPU",
  "colab": {
   "gpuType": "T4",
   "provenance": []
  },
  "kernelspec": {
   "display_name": "Python 3 (ipykernel)",
   "language": "python",
   "name": "python3"
  },
  "language_info": {
   "codemirror_mode": {
    "name": "ipython",
    "version": 3
   },
   "file_extension": ".py",
   "mimetype": "text/x-python",
   "name": "python",
   "nbconvert_exporter": "python",
   "pygments_lexer": "ipython3",
   "version": "3.11.5"
  }
 },
 "nbformat": 4,
 "nbformat_minor": 4
}
